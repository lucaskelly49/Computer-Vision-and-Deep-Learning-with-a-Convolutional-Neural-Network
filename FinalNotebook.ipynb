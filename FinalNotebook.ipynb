{
 "cells": [
  {
   "cell_type": "markdown",
   "metadata": {},
   "source": [
    "# Final Project Submission"
   ]
  },
  {
   "cell_type": "markdown",
   "metadata": {},
   "source": [
    "* Student name: Lucas Kelly\n",
    "* Student pace: self paced\n",
    "* Instructor name: Eli Thomas\n",
    "* Blog post URL: https://lucaskellydataportfolio.weebly.com/data-science-blog/cnn-glossary"
   ]
  },
  {
   "cell_type": "markdown",
   "metadata": {},
   "source": [
    "# Objective:\n",
    "\n",
    "Create a computer vison model using a convolutional neural network to classify images of fashion items from the MNIST Fashion dataset with an accuracy score above 90%."
   ]
  },
  {
   "cell_type": "markdown",
   "metadata": {},
   "source": [
    "# Process and outline using the OSEMN Model\n",
    "\n",
    "This project followed the OSEMN Model in order to organize and prioritize the work involved. This model is one that is common in the practice of data science and allows the scientist to most clearly tell the story of creating the final model. \n",
    "\n",
    "## Part 1: Obtaining the data\n",
    "\n",
    "The MNIST Fashion data set was created for a number of reasons. First, the original MNIST dataset of handwritten numerical digits has been used countless times in a young data scientists career, that the models created to generate the best results were recycled over and over again. With a fresh, new dataset, data scientists can work a little more outside of the mainstream. Second, the MNIST Fashion dataset adds more of a challenge in creating a neural network. Finally, the classification of clothing images using computer vision, falls closer in line with modern industry needs. The work that is done on the MNIST Fashion data can be applied to many online clothing companies and real-world industry needs. \n",
    "\n",
    "A more thorough explanation of why this data was created can be found on the Zalando Research page (https://github.com/zalandoresearch/fashion-mnist) and at the Kaggle Competition homepage (https://www.kaggle.com/zalando-research/fashionmnist). This data was downloaded for this project from the Kaggle website. \n",
    "\n",
    "For more on how this project is translateable to industry tasks, see the blog post below:\n",
    "\n",
    "https://towardsdatascience.com/the-4-convolutional-neural-network-models-that-can-classify-your-fashion-images-9fe7f3e5399d\n",
    "\n",
    "## Part 2: Scrubing the data\n",
    "\n",
    "Most of the data in this dataset comes preped and scrubbed. With a training set of 60,000 images and a test set of 10,000 images each coming in as a 28 x 28 image, the dataset is ready to model with a few minor adjustments needed when preparing for pre-trained networks (See Part 4.)\n",
    "\n",
    "## Part 3: Exploring the data\n",
    "\n",
    "This step allows us to see how the data is formated, how many images in each category we are dealing with, how the images look in real life, and what we can do to get a better grasp on what we're working with. \n",
    "\n",
    "## Part 4: Modeling\n",
    "\n",
    "As modeling is always an interative process, we go through a series of initial baseline models to test and evaluate the needed structure and architecture of our network. From there, we use a form of hyperparameter tuning using a library called Talos (https://github.com/autonomio/talos) to find the best optimizer and batch-size for our final model. \n",
    "\n",
    "## Part 5: Interpret\n",
    "\n",
    "Finally, we look at how the models compare, using the accuracy metric to decipher which model had the most success in categorizing the test and validation images. "
   ]
  },
  {
   "cell_type": "markdown",
   "metadata": {},
   "source": [
    "# -----------------------------------------------------------------------------------\n",
    "# -----------------------------------------------------------------------------------\n",
    "\n",
    "### Libraries"
   ]
  },
  {
   "cell_type": "code",
   "execution_count": 242,
   "metadata": {},
   "outputs": [],
   "source": [
    "import pandas as pd\n",
    "import matplotlib.pyplot as plt\n",
    "import tensorflow as tf\n",
    "%matplotlib inline\n",
    "\n",
    "from sklearn.model_selection import train_test_split\n",
    "\n",
    "from keras.utils import to_categorical\n",
    "from keras.models import Sequential\n",
    "from keras.layers import Conv2D, Dense, Dropout, Flatten, MaxPooling2D, ZeroPadding2D\n",
    "from keras.losses import categorical_crossentropy\n",
    "from keras.optimizers import Adam\n",
    "\n",
    "import matplotlib.pyplot as plt\n",
    "import numpy as np\n",
    "import pandas as pd\n",
    "%matplotlib inline\n",
    "from sklearn.metrics import classification_report\n",
    "from sklearn.manifold import TSNE\n",
    "from keras import utils\n",
    "from keras.utils import to_categorical\n",
    "from keras.models import Sequential\n",
    "from keras.layers import Dense, Conv2D, Dropout, Flatten, MaxPooling2D, BatchNormalization,LeakyReLU\n",
    "from keras.models import load_model\n",
    "from keras.applications.vgg16 import VGG16\n",
    "from keras import Model\n",
    "from sklearn.metrics import confusion_matrix\n",
    "import talos\n",
    "from keras import optimizers, callbacks\n",
    "from keras.utils.vis_utils import plot_model\n",
    "from keras.optimizers import Adam, Adadelta, RMSprop, SGD"
   ]
  },
  {
   "cell_type": "code",
   "execution_count": 4,
   "metadata": {},
   "outputs": [],
   "source": [
    "from PIL import Image as pil_image"
   ]
  },
  {
   "cell_type": "markdown",
   "metadata": {},
   "source": [
    "### Functions"
   ]
  },
  {
   "cell_type": "code",
   "execution_count": 253,
   "metadata": {},
   "outputs": [],
   "source": [
    "# This is a function to help \n",
    "# Credit to Matthew Sparr: \n",
    "# https://nbviewer.jupyter.org/github/matthewsparr/Hiragana-Deep-Learning/blob/master/final.ipynb\n",
    "\n",
    "def plot_training(mod):\n",
    "# Plot training & validation accuracy values\n",
    "    plt.plot(mod.history['acc'])\n",
    "    plt.plot(mod.history['val_acc'])\n",
    "    plt.title('Model accuracy')\n",
    "    plt.ylabel('Accuracy')\n",
    "    plt.xlabel('Epoch')\n",
    "    plt.legend(['Train', 'Val'], loc='upper left')\n",
    "    plt.show()\n",
    "\n",
    "# Plot training & validation loss values\n",
    "    plt.plot(mod.history['loss'])\n",
    "    plt.plot(mod.history['val_loss'])\n",
    "    plt.title('Model loss')\n",
    "    plt.ylabel('Loss')\n",
    "    plt.xlabel('Epoch')\n",
    "    plt.legend(['Train', 'Val'], loc='upper left')\n",
    "    plt.show()"
   ]
  },
  {
   "cell_type": "markdown",
   "metadata": {},
   "source": [
    "## Part 1: Obtaining the data"
   ]
  },
  {
   "cell_type": "markdown",
   "metadata": {},
   "source": [
    "### Loading the data\n",
    "\n",
    "The MNIST Fashion dataset comes organized and scrubbed for the most part. Now, we just have to load it and divide it into test, train and validation data sets. "
   ]
  },
  {
   "cell_type": "code",
   "execution_count": 62,
   "metadata": {},
   "outputs": [
    {
     "name": "stdout",
     "output_type": "stream",
     "text": [
      "(60000, 785)\n",
      "(10000, 785)\n"
     ]
    }
   ],
   "source": [
    "train = pd.read_csv('fashion-mnist_train.csv')\n",
    "test = pd.read_csv('fashion-mnist_test.csv')\n",
    "\n",
    "print(train.shape)\n",
    "print(test.shape)"
   ]
  },
  {
   "cell_type": "markdown",
   "metadata": {},
   "source": [
    "## Part 2: Scrubing the data"
   ]
  },
  {
   "cell_type": "code",
   "execution_count": 254,
   "metadata": {
    "scrolled": true
   },
   "outputs": [],
   "source": [
    "# Train/Test/Split\n",
    "\n",
    "(x_train, y_train), (x_test, y_test) = tf.keras.datasets.fashion_mnist.load_data()"
   ]
  },
  {
   "cell_type": "code",
   "execution_count": 64,
   "metadata": {},
   "outputs": [
    {
     "data": {
      "text/plain": [
       "(60000, 28, 28)"
      ]
     },
     "execution_count": 64,
     "metadata": {},
     "output_type": "execute_result"
    }
   ],
   "source": [
    "x_train.shape"
   ]
  },
  {
   "cell_type": "code",
   "execution_count": 65,
   "metadata": {},
   "outputs": [
    {
     "data": {
      "text/plain": [
       "(10000, 28, 28)"
      ]
     },
     "execution_count": 65,
     "metadata": {},
     "output_type": "execute_result"
    }
   ],
   "source": [
    "x_test.shape"
   ]
  },
  {
   "cell_type": "code",
   "execution_count": 66,
   "metadata": {},
   "outputs": [
    {
     "data": {
      "text/plain": [
       "(60000,)"
      ]
     },
     "execution_count": 66,
     "metadata": {},
     "output_type": "execute_result"
    }
   ],
   "source": [
    "y_train.shape"
   ]
  },
  {
   "cell_type": "code",
   "execution_count": 67,
   "metadata": {},
   "outputs": [
    {
     "data": {
      "text/plain": [
       "(10000,)"
      ]
     },
     "execution_count": 67,
     "metadata": {},
     "output_type": "execute_result"
    }
   ],
   "source": [
    "y_test.shape"
   ]
  },
  {
   "cell_type": "markdown",
   "metadata": {},
   "source": [
    "### Normalize the data"
   ]
  },
  {
   "cell_type": "code",
   "execution_count": 255,
   "metadata": {},
   "outputs": [],
   "source": [
    "x_train = x_train.astype('float32') / 255\n",
    "x_test = x_test.astype('float32') / 255"
   ]
  },
  {
   "cell_type": "code",
   "execution_count": 256,
   "metadata": {},
   "outputs": [
    {
     "name": "stdout",
     "output_type": "stream",
     "text": [
      "x_train shape: (55000, 28, 28, 1) y_train shape: (55000, 10)\n",
      "55000 train set\n",
      "5000 validation set\n",
      "10000 test set\n"
     ]
    }
   ],
   "source": [
    "# Further break training data into train / validation sets (# put 5000 into validation set and keep remaining 55,000 for train)\n",
    "(x_train, x_valid) = x_train[5000:], x_train[:5000] \n",
    "(y_train, y_valid) = y_train[5000:], y_train[:5000]\n",
    "\n",
    "# Reshape input data from (28, 28) to (28, 28, 1)\n",
    "w, h = 28, 28\n",
    "x_train = x_train.reshape(x_train.shape[0], w, h, 1)\n",
    "x_valid = x_valid.reshape(x_valid.shape[0], w, h, 1)\n",
    "x_test = x_test.reshape(x_test.shape[0], w, h, 1)\n",
    "\n",
    "# One-hot encode the labels\n",
    "y_train = tf.keras.utils.to_categorical(y_train, 10)\n",
    "y_valid = tf.keras.utils.to_categorical(y_valid, 10)\n",
    "y_test = tf.keras.utils.to_categorical(y_test, 10)\n",
    "\n",
    "# Print training set shape\n",
    "print(\"x_train shape:\", x_train.shape, \"y_train shape:\", y_train.shape)\n",
    "\n",
    "# Print the number of training, validation, and test datasets\n",
    "print(x_train.shape[0], 'train set')\n",
    "print(x_valid.shape[0], 'validation set')\n",
    "print(x_test.shape[0], 'test set')"
   ]
  },
  {
   "cell_type": "markdown",
   "metadata": {},
   "source": [
    "## Part 3: Exploring the data\n",
    "\n",
    "We can see that each individual category of clothing item contains an equal 6000 images. "
   ]
  },
  {
   "cell_type": "code",
   "execution_count": 252,
   "metadata": {},
   "outputs": [
    {
     "data": {
      "text/plain": [
       "9    6000\n",
       "8    6000\n",
       "7    6000\n",
       "6    6000\n",
       "5    6000\n",
       "4    6000\n",
       "3    6000\n",
       "2    6000\n",
       "1    6000\n",
       "0    6000\n",
       "Name: label, dtype: int64"
      ]
     },
     "execution_count": 252,
     "metadata": {},
     "output_type": "execute_result"
    }
   ],
   "source": [
    "train['label'].value_counts()"
   ]
  },
  {
   "cell_type": "markdown",
   "metadata": {},
   "source": [
    "### View a sample image\n",
    "\n",
    "We can use this to view our images at random. Viewing different images will allow us to see what our model is being trained on and where errors may occur. "
   ]
  },
  {
   "cell_type": "code",
   "execution_count": 72,
   "metadata": {},
   "outputs": [
    {
     "name": "stdout",
     "output_type": "stream",
     "text": [
      "x_train shape: (60000, 28, 28) y_train shape: (60000,)\n",
      "60000 train set\n",
      "10000 test set\n",
      "y = 2 Pullover\n"
     ]
    },
    {
     "data": {
      "text/plain": [
       "<matplotlib.image.AxesImage at 0x135cf6b50>"
      ]
     },
     "execution_count": 72,
     "metadata": {},
     "output_type": "execute_result"
    },
    {
     "data": {
      "image/png": "[encoded data removed]",
      "text/plain": [
       "<Figure size 432x288 with 1 Axes>"
      ]
     },
     "metadata": {
      "needs_background": "light"
     },
     "output_type": "display_data"
    }
   ],
   "source": [
    "# Print training set shape - note there are 60,000 training data of image size of 28x28, 60,000 train labels)\n",
    "print(\"x_train shape:\", x_train.shape, \"y_train shape:\", y_train.shape)\n",
    "\n",
    "# Print the number of training and test datasets\n",
    "print(x_train.shape[0], 'train set')\n",
    "print(x_test.shape[0], 'test set')\n",
    "\n",
    "# Define the text labels\n",
    "fashion_mnist_labels = [\"T-shirt/top\",  # index 0\n",
    "                        \"Trouser\",      # index 1\n",
    "                        \"Pullover\",     # index 2 \n",
    "                        \"Dress\",        # index 3 \n",
    "                        \"Coat\",         # index 4\n",
    "                        \"Sandal\",       # index 5\n",
    "                        \"Shirt\",        # index 6 \n",
    "                        \"Sneaker\",      # index 7 \n",
    "                        \"Bag\",          # index 8 \n",
    "                        \"Ankle boot\"]   # index 9\n",
    "\n",
    "# Image index, you can pick any number between 0 and 59,999\n",
    "img_index = 5\n",
    "# y_train contains the lables, ranging from 0 to 9\n",
    "label_index = (y_train[img_index])\n",
    "label_index = label_index.astype(int)\n",
    "# Print the label, for example 2 Pullover\n",
    "print(\"y = \" + str(label_index) + \" \" + fashion_mnist_labels[label_index])\n",
    "# # Show one of the images from the training dataset\n",
    "plt.imshow(x_train[img_index])"
   ]
  },
  {
   "cell_type": "markdown",
   "metadata": {},
   "source": [
    "## Part 4: Modeling\n",
    "\n",
    "We know that modeling is an iterative process. You will see below how tweaking and tuning models, starting with a baseline, can give us a great sense of what needs to be improved in our CNN. \n",
    "\n",
    "### Model 1: Initial Baseline Model"
   ]
  },
  {
   "cell_type": "code",
   "execution_count": 35,
   "metadata": {},
   "outputs": [
    {
     "name": "stdout",
     "output_type": "stream",
     "text": [
      "Model: \"sequential_7\"\n",
      "_________________________________________________________________\n",
      "Layer (type)                 Output Shape              Param #   \n",
      "=================================================================\n",
      "conv2d_14 (Conv2D)           (None, 28, 28, 64)        640       \n",
      "_________________________________________________________________\n",
      "max_pooling2d_13 (MaxPooling (None, 14, 14, 64)        0         \n",
      "_________________________________________________________________\n",
      "conv2d_15 (Conv2D)           (None, 14, 14, 32)        8224      \n",
      "_________________________________________________________________\n",
      "max_pooling2d_14 (MaxPooling (None, 7, 7, 32)          0         \n",
      "_________________________________________________________________\n",
      "flatten_7 (Flatten)          (None, 1568)              0         \n",
      "_________________________________________________________________\n",
      "dense_19 (Dense)             (None, 256)               401664    \n",
      "_________________________________________________________________\n",
      "dense_20 (Dense)             (None, 10)                2570      \n",
      "=================================================================\n",
      "Total params: 413,098\n",
      "Trainable params: 413,098\n",
      "Non-trainable params: 0\n",
      "_________________________________________________________________\n"
     ]
    }
   ],
   "source": [
    "# We have a 28 x 28 image\n",
    "image_shape = (28,28,1)\n",
    "\n",
    "# Building model 1: 2 conv layers, 1 hidden layer\n",
    "model1 = Sequential()\n",
    "\n",
    "model1.add(Conv2D(filters=64, kernel_size=(3,3), padding = 'same', activation = 'relu', input_shape=image_shape))\n",
    "model1.add(MaxPooling2D(pool_size=2))\n",
    "\n",
    "model1.add(Conv2D(filters=32, kernel_size=2, padding = 'same', activation = 'relu'))\n",
    "model1.add(MaxPooling2D(pool_size=2))\n",
    "\n",
    "model1.add(Flatten())\n",
    "model1.add(Dense(256, activation = 'relu'))\n",
    "model1.add(Dense(10, activation = 'softmax'))\n",
    "\n",
    "# Preview the model summary\n",
    "model1.summary()"
   ]
  },
  {
   "cell_type": "code",
   "execution_count": 36,
   "metadata": {},
   "outputs": [],
   "source": [
    "model1.compile(loss='categorical_crossentropy', optimizer='adam', metrics=['accuracy'])"
   ]
  },
  {
   "cell_type": "code",
   "execution_count": 37,
   "metadata": {
    "scrolled": true
   },
   "outputs": [
    {
     "name": "stdout",
     "output_type": "stream",
     "text": [
      "WARNING:tensorflow:From /Users/Kelly/anaconda3/lib/python3.7/site-packages/tensorflow/python/ops/math_ops.py:3066: to_int32 (from tensorflow.python.ops.math_ops) is deprecated and will be removed in a future version.\n",
      "Instructions for updating:\n",
      "Use tf.cast instead.\n",
      "Train on 55000 samples, validate on 5000 samples\n",
      "Epoch 1/5\n",
      "55000/55000 [==============================] - 91s 2ms/step - loss: 0.4222 - acc: 0.8487 - val_loss: 0.3014 - val_acc: 0.8980\n",
      "Epoch 2/5\n",
      "55000/55000 [==============================] - 88s 2ms/step - loss: 0.2818 - acc: 0.8960 - val_loss: 0.2646 - val_acc: 0.9034\n",
      "Epoch 3/5\n",
      "55000/55000 [==============================] - 88s 2ms/step - loss: 0.2344 - acc: 0.9125 - val_loss: 0.2298 - val_acc: 0.9172\n",
      "Epoch 4/5\n",
      "55000/55000 [==============================] - 89s 2ms/step - loss: 0.2037 - acc: 0.9234 - val_loss: 0.2238 - val_acc: 0.9184\n",
      "Epoch 5/5\n",
      "55000/55000 [==============================] - 89s 2ms/step - loss: 0.1766 - acc: 0.9330 - val_loss: 0.2274 - val_acc: 0.9162\n"
     ]
    }
   ],
   "source": [
    "history1 = model1.fit(x_train, y_train, batch_size=32, epochs=5, verbose=1, validation_data=(x_valid,y_valid))"
   ]
  },
  {
   "cell_type": "code",
   "execution_count": 38,
   "metadata": {
    "scrolled": true
   },
   "outputs": [
    {
     "data": {
      "image/png": "[encoded data removed]",
      "text/plain": [
       "<Figure size 432x288 with 1 Axes>"
      ]
     },
     "metadata": {
      "needs_background": "light"
     },
     "output_type": "display_data"
    },
    {
     "data": {
      "image/png": "[encoded data removed]",
      "text/plain": [
       "<Figure size 432x288 with 1 Axes>"
      ]
     },
     "metadata": {
      "needs_background": "light"
     },
     "output_type": "display_data"
    }
   ],
   "source": [
    "plot_training(history1)"
   ]
  },
  {
   "cell_type": "markdown",
   "metadata": {},
   "source": [
    "### Model 2:\n",
    "\n",
    "* Adding Dropout\n",
    "* Adding 1 hidden layer"
   ]
  },
  {
   "cell_type": "code",
   "execution_count": 39,
   "metadata": {},
   "outputs": [
    {
     "name": "stdout",
     "output_type": "stream",
     "text": [
      "Model: \"sequential_8\"\n",
      "_________________________________________________________________\n",
      "Layer (type)                 Output Shape              Param #   \n",
      "=================================================================\n",
      "conv2d_16 (Conv2D)           (None, 28, 28, 64)        640       \n",
      "_________________________________________________________________\n",
      "max_pooling2d_15 (MaxPooling (None, 14, 14, 64)        0         \n",
      "_________________________________________________________________\n",
      "dropout_15 (Dropout)         (None, 14, 14, 64)        0         \n",
      "_________________________________________________________________\n",
      "conv2d_17 (Conv2D)           (None, 14, 14, 32)        18464     \n",
      "_________________________________________________________________\n",
      "max_pooling2d_16 (MaxPooling (None, 7, 7, 32)          0         \n",
      "_________________________________________________________________\n",
      "dropout_16 (Dropout)         (None, 7, 7, 32)          0         \n",
      "_________________________________________________________________\n",
      "flatten_8 (Flatten)          (None, 1568)              0         \n",
      "_________________________________________________________________\n",
      "dense_21 (Dense)             (None, 256)               401664    \n",
      "_________________________________________________________________\n",
      "dropout_17 (Dropout)         (None, 256)               0         \n",
      "_________________________________________________________________\n",
      "dense_22 (Dense)             (None, 128)               32896     \n",
      "_________________________________________________________________\n",
      "dropout_18 (Dropout)         (None, 128)               0         \n",
      "_________________________________________________________________\n",
      "dense_23 (Dense)             (None, 10)                1290      \n",
      "=================================================================\n",
      "Total params: 454,954\n",
      "Trainable params: 454,954\n",
      "Non-trainable params: 0\n",
      "_________________________________________________________________\n"
     ]
    }
   ],
   "source": [
    "# Building model 2: - 2 conv layers, 2 hidden layers, dropout\n",
    "model2 = Sequential()\n",
    "\n",
    "model2.add(Conv2D(filters=64, kernel_size=(3,3), padding = 'same', activation = 'relu', input_shape=image_shape))\n",
    "model2.add(MaxPooling2D(pool_size=2))\n",
    "model2.add(Dropout(0.5))\n",
    "model2.add(Conv2D(filters=32, kernel_size=(3,3), padding = 'same', activation = 'relu'))\n",
    "model2.add(MaxPooling2D(pool_size=2))\n",
    "model2.add(Dropout(0.5))\n",
    "model2.add(Flatten())\n",
    "model2.add(Dense(256, activation = 'relu'))\n",
    "model2.add(Dropout(0.5))\n",
    "model2.add(Dense(128, activation = 'relu'))\n",
    "model2.add(Dropout(0.5))\n",
    "model2.add(Dense(10, activation = 'softmax'))\n",
    "\n",
    "# Preview the model summary\n",
    "model2.summary()"
   ]
  },
  {
   "cell_type": "code",
   "execution_count": 42,
   "metadata": {},
   "outputs": [],
   "source": [
    "model2.compile(loss='categorical_crossentropy', optimizer='adam', metrics=['accuracy'])"
   ]
  },
  {
   "cell_type": "code",
   "execution_count": 43,
   "metadata": {
    "scrolled": true
   },
   "outputs": [
    {
     "name": "stdout",
     "output_type": "stream",
     "text": [
      "Train on 55000 samples, validate on 5000 samples\n",
      "Epoch 1/5\n",
      "55000/55000 [==============================] - 145s 3ms/step - loss: 0.7187 - acc: 0.7326 - val_loss: 0.4001 - val_acc: 0.8554\n",
      "\n",
      "Epoch 00001: val_loss improved from inf to 0.40011, saving model to model2.weights.best.hdf5\n",
      "Epoch 2/5\n",
      "55000/55000 [==============================] - 197s 4ms/step - loss: 0.4750 - acc: 0.8285 - val_loss: 0.3298 - val_acc: 0.8784\n",
      "\n",
      "Epoch 00002: val_loss improved from 0.40011 to 0.32983, saving model to model2.weights.best.hdf5\n",
      "Epoch 3/5\n",
      "55000/55000 [==============================] - 168s 3ms/step - loss: 0.4219 - acc: 0.8481 - val_loss: 0.2967 - val_acc: 0.8904\n",
      "\n",
      "Epoch 00003: val_loss improved from 0.32983 to 0.29672, saving model to model2.weights.best.hdf5\n",
      "Epoch 4/5\n",
      "55000/55000 [==============================] - 141s 3ms/step - loss: 0.3983 - acc: 0.8556 - val_loss: 0.2963 - val_acc: 0.8886\n",
      "\n",
      "Epoch 00004: val_loss improved from 0.29672 to 0.29629, saving model to model2.weights.best.hdf5\n",
      "Epoch 5/5\n",
      "55000/55000 [==============================] - 426s 8ms/step - loss: 0.3802 - acc: 0.8623 - val_loss: 0.2753 - val_acc: 0.9002\n",
      "\n",
      "Epoch 00005: val_loss improved from 0.29629 to 0.27533, saving model to model2.weights.best.hdf5\n"
     ]
    }
   ],
   "source": [
    "from keras.callbacks import ModelCheckpoint\n",
    "\n",
    "checkpointer2 = ModelCheckpoint(filepath='model2.weights.best.hdf5', verbose = 1, save_best_only=True)\n",
    "\n",
    "history2 = model2.fit(x_train, y_train, batch_size=32, epochs=5, validation_data=(x_valid, y_valid), \n",
    "                      callbacks=[checkpointer2])"
   ]
  },
  {
   "cell_type": "code",
   "execution_count": 44,
   "metadata": {
    "scrolled": true
   },
   "outputs": [
    {
     "data": {
      "image/png": "[encoded data removed]",
      "text/plain": [
       "<Figure size 432x288 with 1 Axes>"
      ]
     },
     "metadata": {
      "needs_background": "light"
     },
     "output_type": "display_data"
    },
    {
     "data": {
      "image/png": "[encoded data removed]",
      "text/plain": [
       "<Figure size 432x288 with 1 Axes>"
      ]
     },
     "metadata": {
      "needs_background": "light"
     },
     "output_type": "display_data"
    }
   ],
   "source": [
    "plot_training(history2)"
   ]
  },
  {
   "cell_type": "markdown",
   "metadata": {},
   "source": [
    "### Model 3\n",
    "\n",
    "* Adding convolutional layer\n",
    "* Decreasing dropout rate"
   ]
  },
  {
   "cell_type": "code",
   "execution_count": 45,
   "metadata": {},
   "outputs": [
    {
     "name": "stdout",
     "output_type": "stream",
     "text": [
      "Model: \"sequential_9\"\n",
      "_________________________________________________________________\n",
      "Layer (type)                 Output Shape              Param #   \n",
      "=================================================================\n",
      "conv2d_18 (Conv2D)           (None, 28, 28, 64)        640       \n",
      "_________________________________________________________________\n",
      "max_pooling2d_17 (MaxPooling (None, 14, 14, 64)        0         \n",
      "_________________________________________________________________\n",
      "dropout_19 (Dropout)         (None, 14, 14, 64)        0         \n",
      "_________________________________________________________________\n",
      "conv2d_19 (Conv2D)           (None, 14, 14, 32)        18464     \n",
      "_________________________________________________________________\n",
      "conv2d_20 (Conv2D)           (None, 14, 14, 32)        9248      \n",
      "_________________________________________________________________\n",
      "max_pooling2d_18 (MaxPooling (None, 7, 7, 32)          0         \n",
      "_________________________________________________________________\n",
      "dropout_20 (Dropout)         (None, 7, 7, 32)          0         \n",
      "_________________________________________________________________\n",
      "flatten_9 (Flatten)          (None, 1568)              0         \n",
      "_________________________________________________________________\n",
      "dense_24 (Dense)             (None, 512)               803328    \n",
      "_________________________________________________________________\n",
      "dropout_21 (Dropout)         (None, 512)               0         \n",
      "_________________________________________________________________\n",
      "dense_25 (Dense)             (None, 256)               131328    \n",
      "_________________________________________________________________\n",
      "dropout_22 (Dropout)         (None, 256)               0         \n",
      "_________________________________________________________________\n",
      "dense_26 (Dense)             (None, 128)               32896     \n",
      "_________________________________________________________________\n",
      "dropout_23 (Dropout)         (None, 128)               0         \n",
      "_________________________________________________________________\n",
      "dense_27 (Dense)             (None, 64)                8256      \n",
      "_________________________________________________________________\n",
      "dropout_24 (Dropout)         (None, 64)                0         \n",
      "_________________________________________________________________\n",
      "dense_28 (Dense)             (None, 10)                650       \n",
      "=================================================================\n",
      "Total params: 1,004,810\n",
      "Trainable params: 1,004,810\n",
      "Non-trainable params: 0\n",
      "_________________________________________________________________\n"
     ]
    }
   ],
   "source": [
    "# Building model 3: - 3 conv layers, 3 hidden layers, dropout rate\n",
    "model3 = Sequential()\n",
    "\n",
    "model3.add(Conv2D(filters=64, kernel_size=(3,3), padding = 'same', activation = 'relu', input_shape=image_shape))\n",
    "model3.add(MaxPooling2D(pool_size=2))\n",
    "model3.add(Dropout(0.5))\n",
    "model3.add(Conv2D(filters=32, kernel_size=(3,3), padding = 'same', activation = 'relu'))\n",
    "model3.add(Conv2D(filters=32, kernel_size=(3,3), padding = 'same', activation = 'relu'))\n",
    "model3.add(MaxPooling2D(pool_size=2))\n",
    "model3.add(Dropout(0.5))\n",
    "model3.add(Flatten())\n",
    "model3.add(Dense(512, activation = 'relu'))\n",
    "model3.add(Dropout(0.25))\n",
    "model3.add(Dense(256, activation = 'relu'))\n",
    "model3.add(Dropout(0.25))\n",
    "model3.add(Dense(128, activation = 'relu'))\n",
    "model3.add(Dropout(0.25))\n",
    "model3.add(Dense(64, activation = 'relu'))\n",
    "model3.add(Dropout(0.25))\n",
    "model3.add(Dense(10, activation = 'softmax'))\n",
    "\n",
    "# Preview the model summary\n",
    "model3.summary()"
   ]
  },
  {
   "cell_type": "code",
   "execution_count": 46,
   "metadata": {},
   "outputs": [],
   "source": [
    "model3.compile(loss='categorical_crossentropy', optimizer='adam', metrics=['accuracy'])"
   ]
  },
  {
   "cell_type": "code",
   "execution_count": 47,
   "metadata": {},
   "outputs": [
    {
     "name": "stdout",
     "output_type": "stream",
     "text": [
      "Train on 55000 samples, validate on 5000 samples\n",
      "Epoch 1/5\n",
      "55000/55000 [==============================] - 232s 4ms/step - loss: 0.6570 - acc: 0.7553 - val_loss: 0.3553 - val_acc: 0.8630\n",
      "\n",
      "Epoch 00001: val_loss improved from inf to 0.35533, saving model to model3.weights.best.hdf5\n",
      "Epoch 2/5\n",
      "55000/55000 [==============================] - 262s 5ms/step - loss: 0.4146 - acc: 0.8537 - val_loss: 0.3155 - val_acc: 0.8870\n",
      "\n",
      "Epoch 00002: val_loss improved from 0.35533 to 0.31553, saving model to model3.weights.best.hdf5\n",
      "Epoch 3/5\n",
      "55000/55000 [==============================] - 399s 7ms/step - loss: 0.3735 - acc: 0.8663 - val_loss: 0.2706 - val_acc: 0.9042\n",
      "\n",
      "Epoch 00003: val_loss improved from 0.31553 to 0.27061, saving model to model3.weights.best.hdf5\n",
      "Epoch 4/5\n",
      "55000/55000 [==============================] - 1685s 31ms/step - loss: 0.3475 - acc: 0.8753 - val_loss: 0.2590 - val_acc: 0.9062\n",
      "\n",
      "Epoch 00004: val_loss improved from 0.27061 to 0.25902, saving model to model3.weights.best.hdf5\n",
      "Epoch 5/5\n",
      "55000/55000 [==============================] - 239s 4ms/step - loss: 0.3256 - acc: 0.8859 - val_loss: 0.2564 - val_acc: 0.9040\n",
      "\n",
      "Epoch 00005: val_loss improved from 0.25902 to 0.25640, saving model to model3.weights.best.hdf5\n"
     ]
    }
   ],
   "source": [
    "checkpointer3 = ModelCheckpoint(filepath='model3.weights.best.hdf5', verbose = 1, save_best_only=True)\n",
    "\n",
    "history3 = model3.fit(x_train, y_train, batch_size=32, epochs=5, validation_data=(x_valid, y_valid), \n",
    "                      callbacks=[checkpointer3])"
   ]
  },
  {
   "cell_type": "code",
   "execution_count": 48,
   "metadata": {},
   "outputs": [
    {
     "data": {
      "image/png": "[encoded data removed]",
      "text/plain": [
       "<Figure size 432x288 with 1 Axes>"
      ]
     },
     "metadata": {
      "needs_background": "light"
     },
     "output_type": "display_data"
    },
    {
     "data": {
      "image/png": "[encoded data removed]",
      "text/plain": [
       "<Figure size 432x288 with 1 Axes>"
      ]
     },
     "metadata": {
      "needs_background": "light"
     },
     "output_type": "display_data"
    }
   ],
   "source": [
    "plot_training(history3)"
   ]
  },
  {
   "cell_type": "markdown",
   "metadata": {},
   "source": [
    "### Hyperparameter Tuning w/ Talos\n",
    "\n",
    "https://github.com/autonomio/talos/blob/master/examples/A%20Very%20Short%20Introduction%20to%20Hyperparameter%20Optimization%20of%20Keras%20Models%20with%20Talos.ipynb"
   ]
  },
  {
   "cell_type": "code",
   "execution_count": 49,
   "metadata": {},
   "outputs": [],
   "source": [
    "import sys\n",
    "import talos as ta"
   ]
  },
  {
   "cell_type": "code",
   "execution_count": 54,
   "metadata": {},
   "outputs": [],
   "source": [
    "params = {'batch_size': [32, 64],\n",
    "    'optimizer': ['adam', 'adadelta', 'rmsprop', 'sgd']\n",
    "}"
   ]
  },
  {
   "cell_type": "code",
   "execution_count": 55,
   "metadata": {},
   "outputs": [],
   "source": [
    "# add input parameters to the function\n",
    "def tuned_model(x_train, y_train, x_valid, y_valid, params):\n",
    "    \n",
    "    model = Sequential()\n",
    "\n",
    "    model.add(Conv2D(filters=64, kernel_size=(3,3), padding = 'same', activation = 'relu', input_shape=image_shape))\n",
    "    model.add(MaxPooling2D(pool_size=2))\n",
    "    model.add(Dropout(0.5))\n",
    "    model.add(Conv2D(filters=32, kernel_size=(3,3), padding = 'same', activation = 'relu'))\n",
    "    model.add(Conv2D(filters=32, kernel_size=(3,3), padding = 'same', activation = 'relu'))\n",
    "    model.add(MaxPooling2D(pool_size=2))\n",
    "    model.add(Dropout(0.5))\n",
    "    model.add(Flatten())\n",
    "    model.add(Dense(512, activation = 'relu'))\n",
    "    model.add(Dropout(0.25))\n",
    "    model.add(Dense(256, activation = 'relu'))\n",
    "    model.add(Dropout(0.25))\n",
    "    model.add(Dense(128, activation = 'relu'))\n",
    "    model.add(Dropout(0.25))\n",
    "    model.add(Dense(64, activation = 'relu'))\n",
    "    model.add(Dropout(0.25))\n",
    "    model.add(Dense(10, activation = 'softmax'))\n",
    "\n",
    "    model.compile(loss='binary_crossentropy', optimizer=params['optimizer'], metrics=['accuracy'])\n",
    "    \n",
    "    # make sure history object is returned by model.fit()\n",
    "    out = model.fit(x_train, y_train,\n",
    "                    epochs=20,\n",
    "                    batch_size=params['batch_size'],\n",
    "                    validation_split=.01,\n",
    "                    verbose=1)\n",
    "    \n",
    "    return out, model"
   ]
  },
  {
   "cell_type": "code",
   "execution_count": 59,
   "metadata": {},
   "outputs": [
    {
     "name": "stderr",
     "output_type": "stream",
     "text": [
      "\r",
      "  0%|          | 0/8 [00:00<?, ?it/s]"
     ]
    },
    {
     "name": "stdout",
     "output_type": "stream",
     "text": [
      "Train on 38115 samples, validate on 385 samples\n",
      "Epoch 1/20\n",
      "38115/38115 [==============================] - 170s 4ms/step - loss: 0.1205 - acc: 0.9522 - val_loss: 0.0646 - val_acc: 0.9738\n",
      "Epoch 2/20\n",
      "38115/38115 [==============================] - 162s 4ms/step - loss: 0.0778 - acc: 0.9697 - val_loss: 0.0531 - val_acc: 0.9779\n",
      "Epoch 3/20\n",
      "38115/38115 [==============================] - 145s 4ms/step - loss: 0.0693 - acc: 0.9728 - val_loss: 0.0498 - val_acc: 0.9808\n",
      "Epoch 4/20\n",
      "38115/38115 [==============================] - 150s 4ms/step - loss: 0.0647 - acc: 0.9750 - val_loss: 0.0527 - val_acc: 0.9800\n",
      "Epoch 5/20\n",
      "38115/38115 [==============================] - 329s 9ms/step - loss: 0.0619 - acc: 0.9758 - val_loss: 0.0505 - val_acc: 0.9800\n",
      "Epoch 6/20\n",
      "38115/38115 [==============================] - 147s 4ms/step - loss: 0.0595 - acc: 0.9766 - val_loss: 0.0443 - val_acc: 0.9834\n",
      "Epoch 7/20\n",
      "38115/38115 [==============================] - 143s 4ms/step - loss: 0.0578 - acc: 0.9775 - val_loss: 0.0460 - val_acc: 0.9821\n",
      "Epoch 8/20\n",
      "38115/38115 [==============================] - 142s 4ms/step - loss: 0.0565 - acc: 0.9779 - val_loss: 0.0428 - val_acc: 0.9816\n",
      "Epoch 9/20\n",
      "38115/38115 [==============================] - 567s 15ms/step - loss: 0.0548 - acc: 0.9791 - val_loss: 0.0416 - val_acc: 0.9844\n",
      "Epoch 10/20\n",
      "38115/38115 [==============================] - 755s 20ms/step - loss: 0.0535 - acc: 0.9794 - val_loss: 0.0404 - val_acc: 0.9821\n",
      "Epoch 11/20\n",
      "38115/38115 [==============================] - 744s 20ms/step - loss: 0.0523 - acc: 0.9799 - val_loss: 0.0400 - val_acc: 0.9829\n",
      "Epoch 12/20\n",
      "38115/38115 [==============================] - 746s 20ms/step - loss: 0.0513 - acc: 0.9803 - val_loss: 0.0415 - val_acc: 0.9836\n",
      "Epoch 13/20\n",
      "38115/38115 [==============================] - 539s 14ms/step - loss: 0.0502 - acc: 0.9804 - val_loss: 0.0422 - val_acc: 0.9847\n",
      "Epoch 14/20\n",
      "38115/38115 [==============================] - 757s 20ms/step - loss: 0.0504 - acc: 0.9810 - val_loss: 0.0397 - val_acc: 0.9829\n",
      "Epoch 15/20\n",
      "38115/38115 [==============================] - 749s 20ms/step - loss: 0.0500 - acc: 0.9810 - val_loss: 0.0423 - val_acc: 0.9831\n",
      "Epoch 16/20\n",
      "38115/38115 [==============================] - 742s 19ms/step - loss: 0.0485 - acc: 0.9816 - val_loss: 0.0405 - val_acc: 0.9849\n",
      "Epoch 17/20\n",
      "38115/38115 [==============================] - 476s 13ms/step - loss: 0.0482 - acc: 0.9816 - val_loss: 0.0407 - val_acc: 0.9821\n",
      "Epoch 18/20\n",
      "38115/38115 [==============================] - 143s 4ms/step - loss: 0.0480 - acc: 0.9816 - val_loss: 0.0386 - val_acc: 0.9857\n",
      "Epoch 19/20\n",
      "38115/38115 [==============================] - 141s 4ms/step - loss: 0.0465 - acc: 0.9821 - val_loss: 0.0377 - val_acc: 0.9836\n",
      "Epoch 20/20\n",
      "38115/38115 [==============================] - 145s 4ms/step - loss: 0.0467 - acc: 0.9819 - val_loss: 0.0385 - val_acc: 0.9852\n"
     ]
    },
    {
     "name": "stderr",
     "output_type": "stream",
     "text": [
      "\r",
      " 12%|█▎        | 1/8 [2:11:45<15:22:18, 7905.43s/it]"
     ]
    },
    {
     "name": "stdout",
     "output_type": "stream",
     "text": [
      "Train on 38115 samples, validate on 385 samples\n",
      "Epoch 1/20\n",
      "38115/38115 [==============================] - 156s 4ms/step - loss: 0.1586 - acc: 0.9363 - val_loss: 0.0799 - val_acc: 0.9652\n",
      "Epoch 2/20\n",
      "38115/38115 [==============================] - 1319s 35ms/step - loss: 0.0953 - acc: 0.9615 - val_loss: 0.0717 - val_acc: 0.9688\n",
      "Epoch 3/20\n",
      "38115/38115 [==============================] - 153s 4ms/step - loss: 0.0825 - acc: 0.9674 - val_loss: 0.0566 - val_acc: 0.9779\n",
      "Epoch 4/20\n",
      "38115/38115 [==============================] - 146s 4ms/step - loss: 0.0745 - acc: 0.9706 - val_loss: 0.0650 - val_acc: 0.9732\n",
      "Epoch 5/20\n",
      "38115/38115 [==============================] - 145s 4ms/step - loss: 0.0697 - acc: 0.9727 - val_loss: 0.0564 - val_acc: 0.9784\n",
      "Epoch 6/20\n",
      "38115/38115 [==============================] - 141s 4ms/step - loss: 0.0669 - acc: 0.9739 - val_loss: 0.0474 - val_acc: 0.9808\n",
      "Epoch 7/20\n",
      "38115/38115 [==============================] - 568s 15ms/step - loss: 0.0639 - acc: 0.9750 - val_loss: 0.0438 - val_acc: 0.9826\n",
      "Epoch 8/20\n",
      "38115/38115 [==============================] - 163s 4ms/step - loss: 0.0625 - acc: 0.9757 - val_loss: 0.0491 - val_acc: 0.9810\n",
      "Epoch 9/20\n",
      "38115/38115 [==============================] - 789s 21ms/step - loss: 0.0602 - acc: 0.9765 - val_loss: 0.0425 - val_acc: 0.9844\n",
      "Epoch 10/20\n",
      "38115/38115 [==============================] - 2041s 54ms/step - loss: 0.0594 - acc: 0.9772 - val_loss: 0.0441 - val_acc: 0.9836\n",
      "Epoch 11/20\n",
      "38115/38115 [==============================] - 147s 4ms/step - loss: 0.0577 - acc: 0.9778 - val_loss: 0.0454 - val_acc: 0.9844\n",
      "Epoch 12/20\n",
      "38115/38115 [==============================] - 143s 4ms/step - loss: 0.0563 - acc: 0.9782 - val_loss: 0.0421 - val_acc: 0.9849\n",
      "Epoch 13/20\n",
      "38115/38115 [==============================] - 868s 23ms/step - loss: 0.0557 - acc: 0.9783 - val_loss: 0.0449 - val_acc: 0.9839\n",
      "Epoch 14/20\n",
      "38115/38115 [==============================] - 2826s 74ms/step - loss: 0.0549 - acc: 0.9787 - val_loss: 0.0524 - val_acc: 0.9792\n",
      "Epoch 15/20\n",
      "38115/38115 [==============================] - 182s 5ms/step - loss: 0.0537 - acc: 0.9791 - val_loss: 0.0408 - val_acc: 0.9849\n",
      "Epoch 16/20\n",
      "38115/38115 [==============================] - 155s 4ms/step - loss: 0.0536 - acc: 0.9793 - val_loss: 0.0422 - val_acc: 0.9849\n",
      "Epoch 17/20\n",
      "38115/38115 [==============================] - 155s 4ms/step - loss: 0.0526 - acc: 0.9797 - val_loss: 0.0411 - val_acc: 0.9834\n",
      "Epoch 18/20\n",
      "38115/38115 [==============================] - 148s 4ms/step - loss: 0.0518 - acc: 0.9802 - val_loss: 0.0405 - val_acc: 0.9844\n",
      "Epoch 19/20\n",
      "38115/38115 [==============================] - 522s 14ms/step - loss: 0.0516 - acc: 0.9804 - val_loss: 0.0429 - val_acc: 0.9834\n",
      "Epoch 20/20\n",
      "38115/38115 [==============================] - 767s 20ms/step - loss: 0.0511 - acc: 0.9803 - val_loss: 0.0448 - val_acc: 0.9826\n"
     ]
    },
    {
     "name": "stderr",
     "output_type": "stream",
     "text": [
      "\r",
      " 25%|██▌       | 2/8 [5:24:04<14:59:33, 8995.59s/it]"
     ]
    },
    {
     "name": "stdout",
     "output_type": "stream",
     "text": [
      "Train on 38115 samples, validate on 385 samples\n",
      "Epoch 1/20\n",
      "38115/38115 [==============================] - 761s 20ms/step - loss: 0.1209 - acc: 0.9528 - val_loss: 0.0669 - val_acc: 0.9738\n",
      "Epoch 2/20\n",
      "38115/38115 [==============================] - 544s 14ms/step - loss: 0.0864 - acc: 0.9671 - val_loss: 0.0658 - val_acc: 0.9730\n",
      "Epoch 3/20\n",
      "38115/38115 [==============================] - 756s 20ms/step - loss: 0.0816 - acc: 0.9693 - val_loss: 0.0547 - val_acc: 0.9787\n",
      "Epoch 4/20\n",
      "38115/38115 [==============================] - 776s 20ms/step - loss: 0.0826 - acc: 0.9695 - val_loss: 0.0549 - val_acc: 0.9771\n",
      "Epoch 5/20\n",
      "38115/38115 [==============================] - 597s 16ms/step - loss: 0.0834 - acc: 0.9697 - val_loss: 0.0517 - val_acc: 0.9803\n",
      "Epoch 6/20\n",
      "38115/38115 [==============================] - 929s 24ms/step - loss: 0.0868 - acc: 0.9688 - val_loss: 0.0561 - val_acc: 0.9797\n",
      "Epoch 7/20\n",
      "38115/38115 [==============================] - 151s 4ms/step - loss: 0.0897 - acc: 0.9677 - val_loss: 0.0578 - val_acc: 0.9771\n",
      "Epoch 8/20\n",
      "38115/38115 [==============================] - 133s 3ms/step - loss: 0.0937 - acc: 0.9665 - val_loss: 0.0761 - val_acc: 0.9709\n",
      "Epoch 9/20\n",
      "38115/38115 [==============================] - 129s 3ms/step - loss: 0.0953 - acc: 0.9659 - val_loss: 0.0703 - val_acc: 0.9748\n",
      "Epoch 10/20\n",
      "38115/38115 [==============================] - 128s 3ms/step - loss: 0.0980 - acc: 0.9653 - val_loss: 0.0615 - val_acc: 0.9748\n",
      "Epoch 11/20\n",
      "38115/38115 [==============================] - 138s 4ms/step - loss: 0.1003 - acc: 0.9642 - val_loss: 0.0579 - val_acc: 0.9790\n",
      "Epoch 12/20\n",
      "38115/38115 [==============================] - 176s 5ms/step - loss: 0.1050 - acc: 0.9630 - val_loss: 0.0658 - val_acc: 0.9738\n",
      "Epoch 13/20\n",
      "38115/38115 [==============================] - 178s 5ms/step - loss: 0.1105 - acc: 0.9613 - val_loss: 0.0758 - val_acc: 0.9699\n",
      "Epoch 14/20\n",
      "38115/38115 [==============================] - 165s 4ms/step - loss: 0.1139 - acc: 0.9597 - val_loss: 0.1686 - val_acc: 0.9358\n",
      "Epoch 15/20\n",
      "38115/38115 [==============================] - 141s 4ms/step - loss: 0.1183 - acc: 0.9592 - val_loss: 0.0825 - val_acc: 0.9668\n",
      "Epoch 16/20\n",
      "38115/38115 [==============================] - 140s 4ms/step - loss: 0.1178 - acc: 0.9582 - val_loss: 0.0672 - val_acc: 0.9712\n",
      "Epoch 17/20\n",
      "38115/38115 [==============================] - 156s 4ms/step - loss: 0.1210 - acc: 0.9577 - val_loss: 0.0760 - val_acc: 0.9660\n",
      "Epoch 18/20\n",
      "38115/38115 [==============================] - 149s 4ms/step - loss: 0.1279 - acc: 0.9554 - val_loss: 0.0748 - val_acc: 0.9668\n",
      "Epoch 19/20\n",
      "38115/38115 [==============================] - 139s 4ms/step - loss: 0.1254 - acc: 0.9556 - val_loss: 0.1752 - val_acc: 0.9719\n",
      "Epoch 20/20\n",
      "38115/38115 [==============================] - 138s 4ms/step - loss: 0.1282 - acc: 0.9553 - val_loss: 0.0694 - val_acc: 0.9704\n"
     ]
    },
    {
     "name": "stderr",
     "output_type": "stream",
     "text": [
      "\r",
      " 38%|███▊      | 3/8 [7:11:12<11:25:26, 8225.36s/it]"
     ]
    },
    {
     "name": "stdout",
     "output_type": "stream",
     "text": [
      "Train on 38115 samples, validate on 385 samples\n",
      "Epoch 1/20\n",
      "38115/38115 [==============================] - 111s 3ms/step - loss: 0.3247 - acc: 0.9000 - val_loss: 0.3241 - val_acc: 0.9000\n",
      "Epoch 2/20\n",
      "38115/38115 [==============================] - 108s 3ms/step - loss: 0.3228 - acc: 0.9000 - val_loss: 0.3198 - val_acc: 0.9000\n",
      "Epoch 3/20\n",
      "38115/38115 [==============================] - 115s 3ms/step - loss: 0.3160 - acc: 0.9000 - val_loss: 0.2965 - val_acc: 0.9000\n",
      "Epoch 4/20\n",
      "38115/38115 [==============================] - 130s 3ms/step - loss: 0.2862 - acc: 0.8998 - val_loss: 0.2314 - val_acc: 0.9000\n",
      "Epoch 5/20\n",
      "38115/38115 [==============================] - 121s 3ms/step - loss: 0.2502 - acc: 0.9009 - val_loss: 0.1966 - val_acc: 0.9114\n",
      "Epoch 6/20\n",
      "38115/38115 [==============================] - 133s 3ms/step - loss: 0.2262 - acc: 0.9057 - val_loss: 0.1780 - val_acc: 0.9268\n",
      "Epoch 7/20\n",
      "38115/38115 [==============================] - 127s 3ms/step - loss: 0.2100 - acc: 0.9105 - val_loss: 0.1708 - val_acc: 0.9260\n",
      "Epoch 8/20\n",
      "38115/38115 [==============================] - 114s 3ms/step - loss: 0.1990 - acc: 0.9146 - val_loss: 0.1648 - val_acc: 0.9275\n",
      "Epoch 9/20\n",
      "38115/38115 [==============================] - 111s 3ms/step - loss: 0.1901 - acc: 0.9176 - val_loss: 0.1588 - val_acc: 0.9283\n",
      "Epoch 10/20\n",
      "38115/38115 [==============================] - 113s 3ms/step - loss: 0.1846 - acc: 0.9198 - val_loss: 0.1555 - val_acc: 0.9275\n",
      "Epoch 11/20\n",
      "38115/38115 [==============================] - 119s 3ms/step - loss: 0.1794 - acc: 0.9217 - val_loss: 0.1514 - val_acc: 0.9296\n",
      "Epoch 12/20\n",
      "38115/38115 [==============================] - 117s 3ms/step - loss: 0.1739 - acc: 0.9239 - val_loss: 0.1469 - val_acc: 0.9322\n",
      "Epoch 13/20\n",
      "38115/38115 [==============================] - 101s 3ms/step - loss: 0.1698 - acc: 0.9258 - val_loss: 0.1443 - val_acc: 0.9322\n",
      "Epoch 14/20\n",
      "38115/38115 [==============================] - 97s 3ms/step - loss: 0.1655 - acc: 0.9281 - val_loss: 0.1410 - val_acc: 0.9358\n",
      "Epoch 15/20\n",
      "38115/38115 [==============================] - 98s 3ms/step - loss: 0.1624 - acc: 0.9287 - val_loss: 0.1371 - val_acc: 0.9374\n",
      "Epoch 16/20\n",
      "38115/38115 [==============================] - 98s 3ms/step - loss: 0.1601 - acc: 0.9307 - val_loss: 0.1329 - val_acc: 0.9416\n",
      "Epoch 17/20\n",
      "38115/38115 [==============================] - 98s 3ms/step - loss: 0.1552 - acc: 0.9328 - val_loss: 0.1270 - val_acc: 0.9452\n",
      "Epoch 18/20\n",
      "38115/38115 [==============================] - 111s 3ms/step - loss: 0.1527 - acc: 0.9344 - val_loss: 0.1235 - val_acc: 0.9465\n",
      "Epoch 19/20\n",
      "38115/38115 [==============================] - 115s 3ms/step - loss: 0.1482 - acc: 0.9370 - val_loss: 0.1195 - val_acc: 0.9478\n",
      "Epoch 20/20\n",
      "38115/38115 [==============================] - 114s 3ms/step - loss: 0.1452 - acc: 0.9386 - val_loss: 0.1161 - val_acc: 0.9496\n"
     ]
    },
    {
     "name": "stderr",
     "output_type": "stream",
     "text": [
      "\r",
      " 50%|█████     | 4/8 [7:48:48<7:08:57, 6434.40s/it] "
     ]
    },
    {
     "name": "stdout",
     "output_type": "stream",
     "text": [
      "Train on 38115 samples, validate on 385 samples\n",
      "Epoch 1/20\n",
      "38115/38115 [==============================] - 142s 4ms/step - loss: 0.1331 - acc: 0.9471 - val_loss: 0.0707 - val_acc: 0.9704\n",
      "Epoch 2/20\n",
      "38115/38115 [==============================] - 129s 3ms/step - loss: 0.0830 - acc: 0.9669 - val_loss: 0.0542 - val_acc: 0.9774\n",
      "Epoch 3/20\n",
      "38115/38115 [==============================] - 133s 3ms/step - loss: 0.0717 - acc: 0.9718 - val_loss: 0.0490 - val_acc: 0.9826\n",
      "Epoch 4/20\n",
      "38115/38115 [==============================] - 129s 3ms/step - loss: 0.0652 - acc: 0.9745 - val_loss: 0.0480 - val_acc: 0.9810\n",
      "Epoch 5/20\n",
      "38115/38115 [==============================] - 123s 3ms/step - loss: 0.0611 - acc: 0.9758 - val_loss: 0.0427 - val_acc: 0.9821\n",
      "Epoch 6/20\n",
      "38115/38115 [==============================] - 963s 25ms/step - loss: 0.0577 - acc: 0.9771 - val_loss: 0.0461 - val_acc: 0.9818\n",
      "Epoch 7/20\n",
      "38115/38115 [==============================] - 159s 4ms/step - loss: 0.0555 - acc: 0.9782 - val_loss: 0.0435 - val_acc: 0.9842\n",
      "Epoch 8/20\n",
      "38115/38115 [==============================] - 164s 4ms/step - loss: 0.0534 - acc: 0.9793 - val_loss: 0.0398 - val_acc: 0.9842\n",
      "Epoch 9/20\n",
      "38115/38115 [==============================] - 148s 4ms/step - loss: 0.0528 - acc: 0.9795 - val_loss: 0.0420 - val_acc: 0.9844\n",
      "Epoch 10/20\n",
      "38115/38115 [==============================] - 119s 3ms/step - loss: 0.0514 - acc: 0.9800 - val_loss: 0.0367 - val_acc: 0.9852\n",
      "Epoch 11/20\n",
      "38115/38115 [==============================] - 131s 3ms/step - loss: 0.0495 - acc: 0.9803 - val_loss: 0.0419 - val_acc: 0.9849\n",
      "Epoch 12/20\n",
      "38115/38115 [==============================] - 244s 6ms/step - loss: 0.0483 - acc: 0.9814 - val_loss: 0.0386 - val_acc: 0.9836\n",
      "Epoch 13/20\n",
      "38115/38115 [==============================] - 132s 3ms/step - loss: 0.0476 - acc: 0.9816 - val_loss: 0.0360 - val_acc: 0.9852\n",
      "Epoch 14/20\n",
      "38115/38115 [==============================] - 127s 3ms/step - loss: 0.0466 - acc: 0.9817 - val_loss: 0.0346 - val_acc: 0.9868\n",
      "Epoch 15/20\n",
      "38115/38115 [==============================] - 128s 3ms/step - loss: 0.0465 - acc: 0.9818 - val_loss: 0.0380 - val_acc: 0.9852\n",
      "Epoch 16/20\n",
      "38115/38115 [==============================] - 136s 4ms/step - loss: 0.0449 - acc: 0.9826 - val_loss: 0.0375 - val_acc: 0.9839\n",
      "Epoch 17/20\n",
      "38115/38115 [==============================] - 121s 3ms/step - loss: 0.0442 - acc: 0.9830 - val_loss: 0.0339 - val_acc: 0.9849\n",
      "Epoch 18/20\n",
      "38115/38115 [==============================] - 119s 3ms/step - loss: 0.0435 - acc: 0.9831 - val_loss: 0.0344 - val_acc: 0.9852\n",
      "Epoch 19/20\n",
      "38115/38115 [==============================] - 123s 3ms/step - loss: 0.0424 - acc: 0.9837 - val_loss: 0.0348 - val_acc: 0.9878\n",
      "Epoch 20/20\n",
      "38115/38115 [==============================] - 135s 4ms/step - loss: 0.0425 - acc: 0.9835 - val_loss: 0.0349 - val_acc: 0.9857\n"
     ]
    },
    {
     "name": "stderr",
     "output_type": "stream",
     "text": [
      "\r",
      " 62%|██████▎   | 5/8 [8:48:58<4:39:21, 5587.01s/it]"
     ]
    },
    {
     "name": "stdout",
     "output_type": "stream",
     "text": [
      "Train on 38115 samples, validate on 385 samples\n",
      "Epoch 1/20\n",
      "38115/38115 [==============================] - 3545s 93ms/step - loss: 0.1743 - acc: 0.9307 - val_loss: 0.0897 - val_acc: 0.9621\n",
      "Epoch 2/20\n",
      "38115/38115 [==============================] - 122s 3ms/step - loss: 0.1048 - acc: 0.9573 - val_loss: 0.0738 - val_acc: 0.9670\n",
      "Epoch 3/20\n",
      "38115/38115 [==============================] - 935s 25ms/step - loss: 0.0907 - acc: 0.9631 - val_loss: 0.0637 - val_acc: 0.9745\n",
      "Epoch 4/20\n",
      "38115/38115 [==============================] - 151s 4ms/step - loss: 0.0812 - acc: 0.9678 - val_loss: 0.0561 - val_acc: 0.9753\n",
      "Epoch 5/20\n",
      "38115/38115 [==============================] - 4859s 127ms/step - loss: 0.0758 - acc: 0.9700 - val_loss: 0.0505 - val_acc: 0.9787\n",
      "Epoch 6/20\n",
      "38115/38115 [==============================] - 124s 3ms/step - loss: 0.0711 - acc: 0.9717 - val_loss: 0.0499 - val_acc: 0.9813\n",
      "Epoch 7/20\n",
      "38115/38115 [==============================] - 936s 25ms/step - loss: 0.0671 - acc: 0.9739 - val_loss: 0.0464 - val_acc: 0.9826\n",
      "Epoch 8/20\n",
      "38115/38115 [==============================] - 2601s 68ms/step - loss: 0.0648 - acc: 0.9747 - val_loss: 0.0500 - val_acc: 0.9803\n",
      "Epoch 9/20\n",
      "38115/38115 [==============================] - 3375s 89ms/step - loss: 0.0615 - acc: 0.9759 - val_loss: 0.0453 - val_acc: 0.9836\n",
      "Epoch 10/20\n",
      "38115/38115 [==============================] - 160s 4ms/step - loss: 0.0598 - acc: 0.9765 - val_loss: 0.0452 - val_acc: 0.9834\n",
      "Epoch 11/20\n",
      "38115/38115 [==============================] - 180s 5ms/step - loss: 0.0576 - acc: 0.9774 - val_loss: 0.0457 - val_acc: 0.9818\n",
      "Epoch 12/20\n",
      "38115/38115 [==============================] - 189s 5ms/step - loss: 0.0569 - acc: 0.9778 - val_loss: 0.0419 - val_acc: 0.9844\n",
      "Epoch 13/20\n",
      "38115/38115 [==============================] - 171s 4ms/step - loss: 0.0556 - acc: 0.9784 - val_loss: 0.0395 - val_acc: 0.9829\n",
      "Epoch 14/20\n",
      "38115/38115 [==============================] - 182s 5ms/step - loss: 0.0545 - acc: 0.9785 - val_loss: 0.0430 - val_acc: 0.9829\n",
      "Epoch 15/20\n",
      "38115/38115 [==============================] - 173s 5ms/step - loss: 0.0542 - acc: 0.9789 - val_loss: 0.0455 - val_acc: 0.9790\n",
      "Epoch 16/20\n",
      "38115/38115 [==============================] - 124s 3ms/step - loss: 0.0527 - acc: 0.9795 - val_loss: 0.0387 - val_acc: 0.9829\n",
      "Epoch 17/20\n",
      "38115/38115 [==============================] - 128s 3ms/step - loss: 0.0511 - acc: 0.9803 - val_loss: 0.0382 - val_acc: 0.9862\n",
      "Epoch 18/20\n",
      "38115/38115 [==============================] - 141s 4ms/step - loss: 0.0505 - acc: 0.9802 - val_loss: 0.0372 - val_acc: 0.9849\n",
      "Epoch 19/20\n",
      "38115/38115 [==============================] - 128s 3ms/step - loss: 0.0501 - acc: 0.9807 - val_loss: 0.0380 - val_acc: 0.9862\n",
      "Epoch 20/20\n",
      "38115/38115 [==============================] - 137s 4ms/step - loss: 0.0490 - acc: 0.9807 - val_loss: 0.0385 - val_acc: 0.9847\n"
     ]
    },
    {
     "name": "stderr",
     "output_type": "stream",
     "text": [
      "\r",
      " 75%|███████▌  | 6/8 [13:55:05<5:14:02, 9421.21s/it]"
     ]
    },
    {
     "name": "stdout",
     "output_type": "stream",
     "text": [
      "Train on 38115 samples, validate on 385 samples\n",
      "Epoch 1/20\n",
      "38115/38115 [==============================] - 140s 4ms/step - loss: 0.1315 - acc: 0.9485 - val_loss: 0.0723 - val_acc: 0.9699\n",
      "Epoch 2/20\n",
      "38115/38115 [==============================] - 850s 22ms/step - loss: 0.0834 - acc: 0.9673 - val_loss: 0.0556 - val_acc: 0.9782\n",
      "Epoch 3/20\n",
      "38115/38115 [==============================] - 146s 4ms/step - loss: 0.0738 - acc: 0.9716 - val_loss: 0.0567 - val_acc: 0.9753\n",
      "Epoch 4/20\n",
      "38115/38115 [==============================] - 133s 3ms/step - loss: 0.0700 - acc: 0.9732 - val_loss: 0.0470 - val_acc: 0.9829\n",
      "Epoch 5/20\n",
      "38115/38115 [==============================] - 128s 3ms/step - loss: 0.0667 - acc: 0.9747 - val_loss: 0.0490 - val_acc: 0.9821\n",
      "Epoch 6/20\n",
      "38115/38115 [==============================] - 126s 3ms/step - loss: 0.0660 - acc: 0.9748 - val_loss: 0.0475 - val_acc: 0.9813\n",
      "Epoch 7/20\n",
      "38115/38115 [==============================] - 3318s 87ms/step - loss: 0.0660 - acc: 0.9754 - val_loss: 0.0481 - val_acc: 0.9818\n",
      "Epoch 8/20\n",
      "38115/38115 [==============================] - 1463s 38ms/step - loss: 0.0651 - acc: 0.9756 - val_loss: 0.0438 - val_acc: 0.9836\n",
      "Epoch 9/20\n",
      "38115/38115 [==============================] - 1794s 47ms/step - loss: 0.0658 - acc: 0.9757 - val_loss: 0.0488 - val_acc: 0.9816\n",
      "Epoch 10/20\n",
      "38115/38115 [==============================] - 2016s 53ms/step - loss: 0.0657 - acc: 0.9755 - val_loss: 0.0469 - val_acc: 0.9844\n",
      "Epoch 11/20\n",
      "38115/38115 [==============================] - 3452s 91ms/step - loss: 0.0652 - acc: 0.9760 - val_loss: 0.0500 - val_acc: 0.9826\n",
      "Epoch 12/20\n",
      "38115/38115 [==============================] - 2485s 65ms/step - loss: 0.0662 - acc: 0.9755 - val_loss: 0.0465 - val_acc: 0.9813\n",
      "Epoch 13/20\n",
      "38115/38115 [==============================] - 2075s 54ms/step - loss: 0.0676 - acc: 0.9753 - val_loss: 0.0491 - val_acc: 0.9821\n",
      "Epoch 14/20\n",
      "38115/38115 [==============================] - 2223s 58ms/step - loss: 0.0686 - acc: 0.9756 - val_loss: 0.0425 - val_acc: 0.9849\n",
      "Epoch 15/20\n",
      "38115/38115 [==============================] - 3176s 83ms/step - loss: 0.0699 - acc: 0.9751 - val_loss: 0.0481 - val_acc: 0.9826\n",
      "Epoch 16/20\n",
      "38115/38115 [==============================] - 2852s 75ms/step - loss: 0.0695 - acc: 0.9752 - val_loss: 0.0510 - val_acc: 0.9829\n",
      "Epoch 17/20\n",
      "38115/38115 [==============================] - 1394s 37ms/step - loss: 0.0707 - acc: 0.9746 - val_loss: 0.0478 - val_acc: 0.9834\n",
      "Epoch 18/20\n",
      "38115/38115 [==============================] - 150s 4ms/step - loss: 0.0715 - acc: 0.9745 - val_loss: 0.0549 - val_acc: 0.9800\n",
      "Epoch 19/20\n",
      "38115/38115 [==============================] - 163s 4ms/step - loss: 0.0715 - acc: 0.9743 - val_loss: 0.0515 - val_acc: 0.9823\n",
      "Epoch 20/20\n",
      "38115/38115 [==============================] - 129s 3ms/step - loss: 0.0745 - acc: 0.9737 - val_loss: 0.0585 - val_acc: 0.9813\n"
     ]
    },
    {
     "name": "stderr",
     "output_type": "stream",
     "text": [
      "\r",
      " 88%|████████▊ | 7/8 [21:45:26<4:11:00, 15060.94s/it]"
     ]
    },
    {
     "name": "stdout",
     "output_type": "stream",
     "text": [
      "Train on 38115 samples, validate on 385 samples\n",
      "Epoch 1/20\n",
      "38115/38115 [==============================] - 129s 3ms/step - loss: 0.3254 - acc: 0.9000 - val_loss: 0.3244 - val_acc: 0.9000\n",
      "Epoch 2/20\n",
      "38115/38115 [==============================] - 162s 4ms/step - loss: 0.3248 - acc: 0.9000 - val_loss: 0.3237 - val_acc: 0.9000\n",
      "Epoch 3/20\n",
      "38115/38115 [==============================] - 166s 4ms/step - loss: 0.3242 - acc: 0.9000 - val_loss: 0.3228 - val_acc: 0.9000\n",
      "Epoch 4/20\n",
      "38115/38115 [==============================] - 148s 4ms/step - loss: 0.3232 - acc: 0.9000 - val_loss: 0.3210 - val_acc: 0.9000\n",
      "Epoch 5/20\n",
      "38115/38115 [==============================] - 133s 3ms/step - loss: 0.3216 - acc: 0.9000 - val_loss: 0.3174 - val_acc: 0.9000\n",
      "Epoch 6/20\n",
      "38115/38115 [==============================] - 139s 4ms/step - loss: 0.3176 - acc: 0.9000 - val_loss: 0.3075 - val_acc: 0.9000\n",
      "Epoch 7/20\n",
      "38115/38115 [==============================] - 149s 4ms/step - loss: 0.3064 - acc: 0.9000 - val_loss: 0.2792 - val_acc: 0.9000\n",
      "Epoch 8/20\n",
      "38115/38115 [==============================] - 132s 3ms/step - loss: 0.2847 - acc: 0.8999 - val_loss: 0.2462 - val_acc: 0.9000\n",
      "Epoch 9/20\n",
      "38115/38115 [==============================] - 132s 3ms/step - loss: 0.2661 - acc: 0.9006 - val_loss: 0.2253 - val_acc: 0.9047\n",
      "Epoch 10/20\n",
      "38115/38115 [==============================] - 146s 4ms/step - loss: 0.2518 - acc: 0.9022 - val_loss: 0.2096 - val_acc: 0.9099\n",
      "Epoch 11/20\n",
      "38115/38115 [==============================] - 145s 4ms/step - loss: 0.2398 - acc: 0.9041 - val_loss: 0.1968 - val_acc: 0.9135\n",
      "Epoch 12/20\n",
      "38115/38115 [==============================] - 135s 4ms/step - loss: 0.2278 - acc: 0.9069 - val_loss: 0.1859 - val_acc: 0.9177\n",
      "Epoch 13/20\n",
      "38115/38115 [==============================] - 133s 3ms/step - loss: 0.2188 - acc: 0.9089 - val_loss: 0.1811 - val_acc: 0.9221\n",
      "Epoch 14/20\n",
      "38115/38115 [==============================] - 141s 4ms/step - loss: 0.2102 - acc: 0.9115 - val_loss: 0.1742 - val_acc: 0.9247\n",
      "Epoch 15/20\n",
      "38115/38115 [==============================] - 158s 4ms/step - loss: 0.2042 - acc: 0.9136 - val_loss: 0.1694 - val_acc: 0.9278\n",
      "Epoch 16/20\n",
      "38115/38115 [==============================] - 145s 4ms/step - loss: 0.1990 - acc: 0.9149 - val_loss: 0.1667 - val_acc: 0.9286\n",
      "Epoch 17/20\n",
      "38115/38115 [==============================] - 122s 3ms/step - loss: 0.1930 - acc: 0.9173 - val_loss: 0.1615 - val_acc: 0.9294\n",
      "Epoch 18/20\n",
      "38115/38115 [==============================] - 123s 3ms/step - loss: 0.1878 - acc: 0.9194 - val_loss: 0.1581 - val_acc: 0.9304\n",
      "Epoch 19/20\n",
      "38115/38115 [==============================] - 138s 4ms/step - loss: 0.1851 - acc: 0.9202 - val_loss: 0.1544 - val_acc: 0.9330\n",
      "Epoch 20/20\n",
      "38115/38115 [==============================] - 124s 3ms/step - loss: 0.1804 - acc: 0.9225 - val_loss: 0.1512 - val_acc: 0.9340\n"
     ]
    },
    {
     "name": "stderr",
     "output_type": "stream",
     "text": [
      "100%|██████████| 8/8 [22:32:10<00:00, 11384.10s/it]  \n"
     ]
    }
   ],
   "source": [
    "t = ta.Scan(x_train, y_train, params, tuned_model, experiment_name = 'example.csv')"
   ]
  },
  {
   "cell_type": "code",
   "execution_count": 115,
   "metadata": {
    "scrolled": true
   },
   "outputs": [
    {
     "data": {
      "text/html": [
       "<div>\n",
       "<style scoped>\n",
       "    .dataframe tbody tr th:only-of-type {\n",
       "        vertical-align: middle;\n",
       "    }\n",
       "\n",
       "    .dataframe tbody tr th {\n",
       "        vertical-align: top;\n",
       "    }\n",
       "\n",
       "    .dataframe thead th {\n",
       "        text-align: right;\n",
       "    }\n",
       "</style>\n",
       "<table border=\"1\" class=\"dataframe\">\n",
       "  <thead>\n",
       "    <tr style=\"text-align: right;\">\n",
       "      <th></th>\n",
       "      <th>round_epochs</th>\n",
       "      <th>val_loss</th>\n",
       "      <th>val_acc</th>\n",
       "      <th>loss</th>\n",
       "      <th>acc</th>\n",
       "      <th>batch_size</th>\n",
       "      <th>optimizer</th>\n",
       "    </tr>\n",
       "  </thead>\n",
       "  <tbody>\n",
       "    <tr>\n",
       "      <td>0</td>\n",
       "      <td>20</td>\n",
       "      <td>0.038530</td>\n",
       "      <td>0.985195</td>\n",
       "      <td>0.046685</td>\n",
       "      <td>0.981913</td>\n",
       "      <td>32</td>\n",
       "      <td>adam</td>\n",
       "    </tr>\n",
       "    <tr>\n",
       "      <td>1</td>\n",
       "      <td>20</td>\n",
       "      <td>0.044797</td>\n",
       "      <td>0.982597</td>\n",
       "      <td>0.051113</td>\n",
       "      <td>0.980294</td>\n",
       "      <td>32</td>\n",
       "      <td>adadelta</td>\n",
       "    </tr>\n",
       "    <tr>\n",
       "      <td>2</td>\n",
       "      <td>20</td>\n",
       "      <td>0.069425</td>\n",
       "      <td>0.970390</td>\n",
       "      <td>0.128193</td>\n",
       "      <td>0.955309</td>\n",
       "      <td>32</td>\n",
       "      <td>rmsprop</td>\n",
       "    </tr>\n",
       "    <tr>\n",
       "      <td>3</td>\n",
       "      <td>20</td>\n",
       "      <td>0.116086</td>\n",
       "      <td>0.949610</td>\n",
       "      <td>0.145218</td>\n",
       "      <td>0.938591</td>\n",
       "      <td>32</td>\n",
       "      <td>sgd</td>\n",
       "    </tr>\n",
       "    <tr>\n",
       "      <td>4</td>\n",
       "      <td>20</td>\n",
       "      <td>0.034926</td>\n",
       "      <td>0.985714</td>\n",
       "      <td>0.042468</td>\n",
       "      <td>0.983526</td>\n",
       "      <td>64</td>\n",
       "      <td>adam</td>\n",
       "    </tr>\n",
       "    <tr>\n",
       "      <td>5</td>\n",
       "      <td>20</td>\n",
       "      <td>0.038515</td>\n",
       "      <td>0.984675</td>\n",
       "      <td>0.049021</td>\n",
       "      <td>0.980695</td>\n",
       "      <td>64</td>\n",
       "      <td>adadelta</td>\n",
       "    </tr>\n",
       "    <tr>\n",
       "      <td>6</td>\n",
       "      <td>20</td>\n",
       "      <td>0.058539</td>\n",
       "      <td>0.981299</td>\n",
       "      <td>0.074515</td>\n",
       "      <td>0.973735</td>\n",
       "      <td>64</td>\n",
       "      <td>rmsprop</td>\n",
       "    </tr>\n",
       "    <tr>\n",
       "      <td>7</td>\n",
       "      <td>20</td>\n",
       "      <td>0.151170</td>\n",
       "      <td>0.934026</td>\n",
       "      <td>0.180420</td>\n",
       "      <td>0.922498</td>\n",
       "      <td>64</td>\n",
       "      <td>sgd</td>\n",
       "    </tr>\n",
       "  </tbody>\n",
       "</table>\n",
       "</div>"
      ],
      "text/plain": [
       "   round_epochs  val_loss   val_acc      loss       acc  batch_size optimizer\n",
       "0            20  0.038530  0.985195  0.046685  0.981913          32      adam\n",
       "1            20  0.044797  0.982597  0.051113  0.980294          32  adadelta\n",
       "2            20  0.069425  0.970390  0.128193  0.955309          32   rmsprop\n",
       "3            20  0.116086  0.949610  0.145218  0.938591          32       sgd\n",
       "4            20  0.034926  0.985714  0.042468  0.983526          64      adam\n",
       "5            20  0.038515  0.984675  0.049021  0.980695          64  adadelta\n",
       "6            20  0.058539  0.981299  0.074515  0.973735          64   rmsprop\n",
       "7            20  0.151170  0.934026  0.180420  0.922498          64       sgd"
      ]
     },
     "execution_count": 115,
     "metadata": {},
     "output_type": "execute_result"
    }
   ],
   "source": [
    "t.data"
   ]
  },
  {
   "cell_type": "markdown",
   "metadata": {},
   "source": [
    "This table shows us that the best parameters to use in our final model will be an Adam optimizer with a batch size of 64."
   ]
  },
  {
   "cell_type": "code",
   "execution_count": 122,
   "metadata": {},
   "outputs": [],
   "source": [
    "t.data.to_csv(r'final_params.csv')"
   ]
  },
  {
   "cell_type": "markdown",
   "metadata": {},
   "source": [
    "### Final Model"
   ]
  },
  {
   "cell_type": "code",
   "execution_count": 84,
   "metadata": {},
   "outputs": [
    {
     "name": "stdout",
     "output_type": "stream",
     "text": [
      "Train on 54450 samples, validate on 550 samples\n",
      "Epoch 1/20\n",
      "54450/54450 [==============================] - 328s 6ms/step - loss: 0.7410 - acc: 0.7255 - val_loss: 0.4181 - val_acc: 0.8509\n",
      "Epoch 2/20\n",
      "54450/54450 [==============================] - 170s 3ms/step - loss: 0.4356 - acc: 0.8463 - val_loss: 0.3318 - val_acc: 0.8764\n",
      "Epoch 3/20\n",
      "54450/54450 [==============================] - 165s 3ms/step - loss: 0.3750 - acc: 0.8671 - val_loss: 0.2873 - val_acc: 0.8982\n",
      "Epoch 4/20\n",
      "54450/54450 [==============================] - 165s 3ms/step - loss: 0.3444 - acc: 0.8774 - val_loss: 0.2706 - val_acc: 0.8945\n",
      "Epoch 5/20\n",
      "54450/54450 [==============================] - 451s 8ms/step - loss: 0.3248 - acc: 0.8834 - val_loss: 0.2595 - val_acc: 0.9000\n",
      "Epoch 6/20\n",
      "54450/54450 [==============================] - 167s 3ms/step - loss: 0.3109 - acc: 0.8882 - val_loss: 0.2454 - val_acc: 0.9073\n",
      "Epoch 7/20\n",
      "54450/54450 [==============================] - 165s 3ms/step - loss: 0.3009 - acc: 0.8932 - val_loss: 0.2651 - val_acc: 0.9073\n",
      "Epoch 8/20\n",
      "54450/54450 [==============================] - 163s 3ms/step - loss: 0.2920 - acc: 0.8965 - val_loss: 0.2783 - val_acc: 0.9091\n",
      "Epoch 9/20\n",
      "54450/54450 [==============================] - 333s 6ms/step - loss: 0.2816 - acc: 0.9003 - val_loss: 0.2372 - val_acc: 0.9164\n",
      "Epoch 10/20\n",
      "54450/54450 [==============================] - 168s 3ms/step - loss: 0.2720 - acc: 0.9021 - val_loss: 0.2320 - val_acc: 0.9091\n",
      "Epoch 11/20\n",
      "54450/54450 [==============================] - 164s 3ms/step - loss: 0.2698 - acc: 0.9035 - val_loss: 0.2177 - val_acc: 0.9273\n",
      "Epoch 12/20\n",
      "54450/54450 [==============================] - 167s 3ms/step - loss: 0.2603 - acc: 0.9064 - val_loss: 0.2243 - val_acc: 0.9164\n",
      "Epoch 13/20\n",
      "54450/54450 [==============================] - 9245s 170ms/step - loss: 0.2568 - acc: 0.9078 - val_loss: 0.2166 - val_acc: 0.9200\n",
      "Epoch 14/20\n",
      "54450/54450 [==============================] - 177s 3ms/step - loss: 0.2511 - acc: 0.9091 - val_loss: 0.2200 - val_acc: 0.9218\n",
      "Epoch 15/20\n",
      "54450/54450 [==============================] - 170s 3ms/step - loss: 0.2495 - acc: 0.9107 - val_loss: 0.2144 - val_acc: 0.9182\n",
      "Epoch 16/20\n",
      "54450/54450 [==============================] - 174s 3ms/step - loss: 0.2495 - acc: 0.9102 - val_loss: 0.1996 - val_acc: 0.9291\n",
      "Epoch 17/20\n",
      "54450/54450 [==============================] - 174s 3ms/step - loss: 0.2400 - acc: 0.9142 - val_loss: 0.2205 - val_acc: 0.9255\n",
      "Epoch 18/20\n",
      "54450/54450 [==============================] - 192s 4ms/step - loss: 0.2402 - acc: 0.9146 - val_loss: 0.2022 - val_acc: 0.9200\n",
      "Epoch 19/20\n",
      "54450/54450 [==============================] - 203s 4ms/step - loss: 0.2353 - acc: 0.9155 - val_loss: 0.2165 - val_acc: 0.9255\n",
      "Epoch 20/20\n",
      "54450/54450 [==============================] - 215s 4ms/step - loss: 0.2326 - acc: 0.9184 - val_loss: 0.2099 - val_acc: 0.9291\n"
     ]
    }
   ],
   "source": [
    "final_model = Sequential()\n",
    "\n",
    "final_model.add(Conv2D(filters=64, kernel_size=(3,3), padding = 'same', activation = 'relu', input_shape=image_shape))\n",
    "final_model.add(MaxPooling2D(pool_size=2))\n",
    "final_model.add(Dropout(0.5))\n",
    "final_model.add(Conv2D(filters=32, kernel_size=(3,3), padding = 'same', activation = 'relu'))\n",
    "final_model.add(Conv2D(filters=32, kernel_size=(3,3), padding = 'same', activation = 'relu'))\n",
    "final_model.add(MaxPooling2D(pool_size=2))\n",
    "final_model.add(Dropout(0.5))\n",
    "final_model.add(Flatten())\n",
    "final_model.add(Dense(512, activation = 'relu'))\n",
    "final_model.add(Dropout(0.25))\n",
    "final_model.add(Dense(256, activation = 'relu'))\n",
    "final_model.add(Dropout(0.25))\n",
    "final_model.add(Dense(128, activation = 'relu'))\n",
    "final_model.add(Dropout(0.25))\n",
    "final_model.add(Dense(64, activation = 'relu'))\n",
    "final_model.add(Dropout(0.25))\n",
    "final_model.add(Dense(10, activation = 'softmax'))\n",
    "\n",
    "final_model.compile(loss='categorical_crossentropy', optimizer='adam', metrics=['accuracy'])\n",
    "    \n",
    "final_history = final_model.fit(x_train, y_train,\n",
    "                    epochs=20,\n",
    "                    batch_size=64,\n",
    "                    validation_split=.01,\n",
    "                    verbose=1)"
   ]
  },
  {
   "cell_type": "code",
   "execution_count": 87,
   "metadata": {},
   "outputs": [
    {
     "data": {
      "image/png": "[encoded data removed]",
      "text/plain": [
       "<Figure size 432x288 with 1 Axes>"
      ]
     },
     "metadata": {
      "needs_background": "light"
     },
     "output_type": "display_data"
    },
    {
     "data": {
      "image/png": "[encoded data removed]",
      "text/plain": [
       "<Figure size 432x288 with 1 Axes>"
      ]
     },
     "metadata": {
      "needs_background": "light"
     },
     "output_type": "display_data"
    }
   ],
   "source": [
    "plot_training(final_history)"
   ]
  },
  {
   "cell_type": "code",
   "execution_count": 94,
   "metadata": {},
   "outputs": [],
   "source": [
    "final_model.save('final_model.h5')"
   ]
  },
  {
   "cell_type": "markdown",
   "metadata": {},
   "source": [
    "### Compare results with a pretrained network: VGG16"
   ]
  },
  {
   "cell_type": "code",
   "execution_count": 222,
   "metadata": {},
   "outputs": [],
   "source": [
    "# Prep and reshape data for the use in a VGG16 model\n",
    "\n",
    "x_train2 = x_train.reshape(60000, 784)\n",
    "x_test2 = x_test.reshape(10000, 784)\n",
    "x_valid2 = x_valid.reshape(5000, 784)"
   ]
  },
  {
   "cell_type": "code",
   "execution_count": 223,
   "metadata": {},
   "outputs": [
    {
     "data": {
      "text/plain": [
       "((60000, 784, 3), (10000, 784, 3), (5000, 784, 3))"
      ]
     },
     "execution_count": 223,
     "metadata": {},
     "output_type": "execute_result"
    }
   ],
   "source": [
    "# Convert the images into 3 channels for use in VGG16 model\n",
    "\n",
    "x_train2=np.dstack([x_train2] * 3)\n",
    "x_test2=np.dstack([x_test2]*3)\n",
    "x_valid2=np.dstack([x_valid2]*3)\n",
    "x_train2.shape, x_test2.shape, x_valid2.shape"
   ]
  },
  {
   "cell_type": "code",
   "execution_count": 224,
   "metadata": {},
   "outputs": [
    {
     "data": {
      "text/plain": [
       "((60000, 28, 28, 3), (10000, 28, 28, 3), (5000, 28, 28, 3))"
      ]
     },
     "execution_count": 224,
     "metadata": {},
     "output_type": "execute_result"
    }
   ],
   "source": [
    "# Reshape images as per the tensor format required by tensorflow\n",
    "x_train2 = x_train2.reshape(-1, 28,28,3)\n",
    "x_test2= x_test2.reshape(-1,28,28,3)\n",
    "x_valid2 = x_valid2.reshape(-1,28,28,3)\n",
    "x_train2.shape,x_test2.shape, x_valid2.shape"
   ]
  },
  {
   "cell_type": "code",
   "execution_count": 225,
   "metadata": {},
   "outputs": [
    {
     "data": {
      "text/plain": [
       "((60000, 48, 48, 3), (10000, 48, 48, 3), (5000, 48, 48, 3))"
      ]
     },
     "execution_count": 225,
     "metadata": {},
     "output_type": "execute_result"
    }
   ],
   "source": [
    "# Resize the images 48*48 as required by VGG16\n",
    "from keras.preprocessing.image import img_to_array, array_to_img\n",
    "x_train2 = np.asarray([img_to_array(array_to_img(im, scale=False).resize((48,48))) for im in x_train2])\n",
    "x_test2 = np.asarray([img_to_array(array_to_img(im, scale=False).resize((48,48))) for im in x_test2])\n",
    "x_valid2 = np.asarray([img_to_array(array_to_img(im, scale=False).resize((48,48))) for im in x_valid2])\n",
    "#train_x = preprocess_input(x)\n",
    "x_train2.shape, x_test2.shape, x_valid2.shape"
   ]
  },
  {
   "cell_type": "code",
   "execution_count": 226,
   "metadata": {},
   "outputs": [],
   "source": [
    "x_train2 = x_train2 / 255.\n",
    "x_test2 = x_test2 / 255.\n",
    "x_valid2 = x_valid2 / 255.\n",
    "x_train2 = x_train2.astype('float32')\n",
    "x_test2 = x_test2.astype('float32')\n",
    "x_valid2 = x_valid2.astype('float32')"
   ]
  },
  {
   "cell_type": "code",
   "execution_count": 227,
   "metadata": {},
   "outputs": [],
   "source": [
    "# Converting Labels to one hot encoded format\n",
    "train_Y_one_hot = to_categorical(y_train)\n",
    "test_Y_one_hot = to_categorical(y_test)"
   ]
  },
  {
   "cell_type": "code",
   "execution_count": 228,
   "metadata": {},
   "outputs": [],
   "source": [
    "# Splitting train data as train and validation data\n",
    "train_X,valid_X,train_label,valid_label = train_test_split(x_train2,\n",
    "                                                           train_Y_one_hot,\n",
    "                                                           test_size=0.2,\n",
    "                                                           random_state=13\n",
    "                                                           )"
   ]
  },
  {
   "cell_type": "code",
   "execution_count": 229,
   "metadata": {},
   "outputs": [
    {
     "data": {
      "text/plain": [
       "((48000, 48, 48, 3), (12000, 48, 48, 3), (48000, 10), (12000, 10))"
      ]
     },
     "execution_count": 229,
     "metadata": {},
     "output_type": "execute_result"
    }
   ],
   "source": [
    "# Finally check the data size whether it is as per tensorflow and VGG16 requirement\n",
    "train_X.shape,valid_X.shape,train_label.shape,valid_label.shape"
   ]
  },
  {
   "cell_type": "code",
   "execution_count": 230,
   "metadata": {},
   "outputs": [],
   "source": [
    "IMG_WIDTH = 48\n",
    "IMG_HEIGHT = 48\n",
    "IMG_DEPTH = 3\n",
    "BATCH_SIZE = 16"
   ]
  },
  {
   "cell_type": "code",
   "execution_count": 231,
   "metadata": {},
   "outputs": [],
   "source": [
    "# Preprocessing the input \n",
    "train_X = preprocess_input(train_X)\n",
    "valid_X = preprocess_input(valid_X)\n",
    "x_test2  = preprocess_input(x_test2)"
   ]
  },
  {
   "cell_type": "code",
   "execution_count": 234,
   "metadata": {
    "scrolled": true
   },
   "outputs": [
    {
     "name": "stdout",
     "output_type": "stream",
     "text": [
      "Model: \"vgg16\"\n",
      "_________________________________________________________________\n",
      "Layer (type)                 Output Shape              Param #   \n",
      "=================================================================\n",
      "input_4 (InputLayer)         (None, 48, 48, 3)         0         \n",
      "_________________________________________________________________\n",
      "block1_conv1 (Conv2D)        (None, 48, 48, 64)        1792      \n",
      "_________________________________________________________________\n",
      "block1_conv2 (Conv2D)        (None, 48, 48, 64)        36928     \n",
      "_________________________________________________________________\n",
      "block1_pool (MaxPooling2D)   (None, 24, 24, 64)        0         \n",
      "_________________________________________________________________\n",
      "block2_conv1 (Conv2D)        (None, 24, 24, 128)       73856     \n",
      "_________________________________________________________________\n",
      "block2_conv2 (Conv2D)        (None, 24, 24, 128)       147584    \n",
      "_________________________________________________________________\n",
      "block2_pool (MaxPooling2D)   (None, 12, 12, 128)       0         \n",
      "_________________________________________________________________\n",
      "block3_conv1 (Conv2D)        (None, 12, 12, 256)       295168    \n",
      "_________________________________________________________________\n",
      "block3_conv2 (Conv2D)        (None, 12, 12, 256)       590080    \n",
      "_________________________________________________________________\n",
      "block3_conv3 (Conv2D)        (None, 12, 12, 256)       590080    \n",
      "_________________________________________________________________\n",
      "block3_pool (MaxPooling2D)   (None, 6, 6, 256)         0         \n",
      "_________________________________________________________________\n",
      "block4_conv1 (Conv2D)        (None, 6, 6, 512)         1180160   \n",
      "_________________________________________________________________\n",
      "block4_conv2 (Conv2D)        (None, 6, 6, 512)         2359808   \n",
      "_________________________________________________________________\n",
      "block4_conv3 (Conv2D)        (None, 6, 6, 512)         2359808   \n",
      "_________________________________________________________________\n",
      "block4_pool (MaxPooling2D)   (None, 3, 3, 512)         0         \n",
      "_________________________________________________________________\n",
      "block5_conv1 (Conv2D)        (None, 3, 3, 512)         2359808   \n",
      "_________________________________________________________________\n",
      "block5_conv2 (Conv2D)        (None, 3, 3, 512)         2359808   \n",
      "_________________________________________________________________\n",
      "block5_conv3 (Conv2D)        (None, 3, 3, 512)         2359808   \n",
      "_________________________________________________________________\n",
      "block5_pool (MaxPooling2D)   (None, 1, 1, 512)         0         \n",
      "=================================================================\n",
      "Total params: 14,714,688\n",
      "Trainable params: 14,714,688\n",
      "Non-trainable params: 0\n",
      "_________________________________________________________________\n"
     ]
    }
   ],
   "source": [
    "from keras.applications import VGG16;\n",
    "from keras.applications.vgg16 import preprocess_input\n",
    "\n",
    "#  Create base model of VGG16\n",
    "conv_base = VGG16(weights=None,\n",
    "                  include_top=False, \n",
    "                  input_shape=(IMG_HEIGHT, IMG_WIDTH, IMG_DEPTH)\n",
    "                 )\n",
    "conv_base.summary()"
   ]
  },
  {
   "cell_type": "code",
   "execution_count": 235,
   "metadata": {},
   "outputs": [
    {
     "name": "stdout",
     "output_type": "stream",
     "text": [
      "48000/48000 [==============================] - 1278s 27ms/step\n",
      "10000/10000 [==============================] - 427s 43ms/step\n",
      "12000/12000 [==============================] - 354s 29ms/step\n"
     ]
    }
   ],
   "source": [
    "# Extracting features\n",
    "train_features = vgg16.predict(np.array(train_X), batch_size=BATCH_SIZE, verbose=1)\n",
    "test_features = vgg16.predict(np.array(x_test2), batch_size=BATCH_SIZE, verbose=1)\n",
    "val_features = vgg16.predict(np.array(valid_X), batch_size=BATCH_SIZE, verbose=1)\n",
    "#for layer in conv_base.layers:\n",
    "#    layer.trainable = False"
   ]
  },
  {
   "cell_type": "code",
   "execution_count": 237,
   "metadata": {},
   "outputs": [
    {
     "name": "stdout",
     "output_type": "stream",
     "text": [
      "(48000, 1, 1, 512) \n",
      " (10000, 1, 1, 512) \n",
      " (12000, 1, 1, 512)\n"
     ]
    }
   ],
   "source": [
    "# Current shape of features\n",
    "print(train_features.shape, \"\\n\",  test_features.shape, \"\\n\", val_features.shape)"
   ]
  },
  {
   "cell_type": "code",
   "execution_count": 238,
   "metadata": {},
   "outputs": [],
   "source": [
    "# Flatten extracted features\n",
    "train_features_flat = np.reshape(train_features, (48000, 1*1*512))\n",
    "test_features_flat = np.reshape(test_features, (10000, 1*1*512))\n",
    "val_features_flat = np.reshape(val_features, (12000, 1*1*512))"
   ]
  },
  {
   "cell_type": "code",
   "execution_count": 282,
   "metadata": {},
   "outputs": [],
   "source": [
    "# Credit for the architecture of this model goes to:\n",
    "# https://www.kaggle.com/anandad/classify-fashion-mnist-with-vgg16"
   ]
  },
  {
   "cell_type": "code",
   "execution_count": 239,
   "metadata": {},
   "outputs": [],
   "source": [
    "NB_TRAIN_SAMPLES = train_features_flat.shape[0]\n",
    "NB_VALIDATION_SAMPLES = val_features_flat.shape[0]\n",
    "NB_EPOCHS = 100\n",
    "\n",
    "pretrain_model = Sequential()\n",
    "pretrain_model.add(Dense(512, activation='relu', input_dim=(1*1*512)))\n",
    "pretrain_model.add(LeakyReLU(alpha=0.1))\n",
    "pretrain_model.add(Dense(10, activation='softmax'))"
   ]
  },
  {
   "cell_type": "code",
   "execution_count": 240,
   "metadata": {},
   "outputs": [],
   "source": [
    "# Compile the model.\n",
    "pretrain_model.compile(loss='categorical_crossentropy', optimizer=optimizers.Adam(), metrics=['acc'])"
   ]
  },
  {
   "cell_type": "code",
   "execution_count": 243,
   "metadata": {},
   "outputs": [],
   "source": [
    "# Incorporating reduced learning and early stopping for callback\n",
    "reduce_learning = callbacks.ReduceLROnPlateau(\n",
    "    monitor='val_loss',\n",
    "    factor=0.2,\n",
    "    patience=2,\n",
    "    verbose=1,\n",
    "    mode='auto',\n",
    "    epsilon=0.0001,\n",
    "    cooldown=2,\n",
    "    min_lr=0)\n",
    "\n",
    "eary_stopping = callbacks.EarlyStopping(\n",
    "    monitor='val_loss',\n",
    "    min_delta=0,\n",
    "    patience=7,\n",
    "    verbose=1,\n",
    "    mode='auto')\n",
    "\n",
    "callbacks = [reduce_learning, eary_stopping]"
   ]
  },
  {
   "cell_type": "code",
   "execution_count": 244,
   "metadata": {},
   "outputs": [
    {
     "name": "stdout",
     "output_type": "stream",
     "text": [
      "WARNING:tensorflow:From /Users/Kelly/anaconda3/lib/python3.7/site-packages/tensorflow/python/ops/math_ops.py:3066: to_int32 (from tensorflow.python.ops.math_ops) is deprecated and will be removed in a future version.\n",
      "Instructions for updating:\n",
      "Use tf.cast instead.\n",
      "Train on 48000 samples, validate on 12000 samples\n",
      "Epoch 1/100\n",
      "48000/48000 [==============================] - 12s 248us/step - loss: 1.4663 - acc: 0.4639 - val_loss: 1.2065 - val_acc: 0.5432\n",
      "Epoch 2/100\n",
      "48000/48000 [==============================] - 12s 242us/step - loss: 1.0898 - acc: 0.6003 - val_loss: 1.0654 - val_acc: 0.6179\n",
      "Epoch 3/100\n",
      "48000/48000 [==============================] - 11s 228us/step - loss: 0.9897 - acc: 0.6366 - val_loss: 0.9550 - val_acc: 0.6522\n",
      "Epoch 4/100\n",
      "48000/48000 [==============================] - 11s 229us/step - loss: 0.9313 - acc: 0.6596 - val_loss: 0.9724 - val_acc: 0.6457\n",
      "Epoch 5/100\n",
      "48000/48000 [==============================] - 11s 223us/step - loss: 0.9038 - acc: 0.6699 - val_loss: 0.9013 - val_acc: 0.6704\n",
      "Epoch 6/100\n",
      "48000/48000 [==============================] - 14s 292us/step - loss: 0.8818 - acc: 0.6738 - val_loss: 0.8750 - val_acc: 0.6853\n",
      "Epoch 7/100\n",
      "48000/48000 [==============================] - 12s 257us/step - loss: 0.8618 - acc: 0.6830 - val_loss: 0.9199 - val_acc: 0.6679\n",
      "Epoch 8/100\n",
      "48000/48000 [==============================] - 11s 224us/step - loss: 0.8493 - acc: 0.6834 - val_loss: 0.8217 - val_acc: 0.6969\n",
      "Epoch 9/100\n",
      "48000/48000 [==============================] - 15s 310us/step - loss: 0.8360 - acc: 0.6913 - val_loss: 0.8462 - val_acc: 0.6813\n",
      "Epoch 10/100\n",
      "48000/48000 [==============================] - 11s 220us/step - loss: 0.8261 - acc: 0.6968 - val_loss: 0.8287 - val_acc: 0.6951\n",
      "\n",
      "Epoch 00010: ReduceLROnPlateau reducing learning rate to 0.00020000000949949026.\n",
      "Epoch 11/100\n",
      "48000/48000 [==============================] - 11s 234us/step - loss: 0.7594 - acc: 0.7229 - val_loss: 0.7676 - val_acc: 0.7199\n",
      "Epoch 12/100\n",
      "48000/48000 [==============================] - 12s 250us/step - loss: 0.7538 - acc: 0.7250 - val_loss: 0.7616 - val_acc: 0.7202\n",
      "Epoch 13/100\n",
      "48000/48000 [==============================] - 11s 235us/step - loss: 0.7487 - acc: 0.7266 - val_loss: 0.7599 - val_acc: 0.7272\n",
      "Epoch 14/100\n",
      "48000/48000 [==============================] - 12s 259us/step - loss: 0.7448 - acc: 0.7289 - val_loss: 0.7681 - val_acc: 0.7127\n",
      "Epoch 15/100\n",
      "48000/48000 [==============================] - 12s 244us/step - loss: 0.7414 - acc: 0.7315 - val_loss: 0.7509 - val_acc: 0.7289\n",
      "Epoch 16/100\n",
      "48000/48000 [==============================] - 12s 245us/step - loss: 0.7380 - acc: 0.7309 - val_loss: 0.7513 - val_acc: 0.7254\n",
      "Epoch 17/100\n",
      "48000/48000 [==============================] - 12s 250us/step - loss: 0.7328 - acc: 0.7338 - val_loss: 0.7554 - val_acc: 0.7226\n",
      "\n",
      "Epoch 00017: ReduceLROnPlateau reducing learning rate to 4.0000001899898055e-05.\n",
      "Epoch 18/100\n",
      "48000/48000 [==============================] - 12s 260us/step - loss: 0.7155 - acc: 0.7406 - val_loss: 0.7383 - val_acc: 0.7318\n",
      "Epoch 19/100\n",
      "48000/48000 [==============================] - 11s 230us/step - loss: 0.7145 - acc: 0.7415 - val_loss: 0.7275 - val_acc: 0.7378\n",
      "Epoch 20/100\n",
      "48000/48000 [==============================] - 11s 219us/step - loss: 0.7136 - acc: 0.7415 - val_loss: 0.7289 - val_acc: 0.7365\n",
      "Epoch 21/100\n",
      "48000/48000 [==============================] - 10s 217us/step - loss: 0.7127 - acc: 0.7424 - val_loss: 0.7260 - val_acc: 0.7364\n",
      "Epoch 22/100\n",
      "48000/48000 [==============================] - 14s 293us/step - loss: 0.7118 - acc: 0.7413 - val_loss: 0.7257 - val_acc: 0.7403\n",
      "Epoch 23/100\n",
      "48000/48000 [==============================] - 13s 266us/step - loss: 0.7113 - acc: 0.7431 - val_loss: 0.7233 - val_acc: 0.7396\n",
      "Epoch 24/100\n",
      "48000/48000 [==============================] - 11s 222us/step - loss: 0.7103 - acc: 0.7432 - val_loss: 0.7245 - val_acc: 0.7379\n",
      "Epoch 25/100\n",
      "48000/48000 [==============================] - 10s 215us/step - loss: 0.7090 - acc: 0.7440 - val_loss: 0.7246 - val_acc: 0.7411\n",
      "\n",
      "Epoch 00025: ReduceLROnPlateau reducing learning rate to 8.000000525498762e-06.\n",
      "Epoch 26/100\n",
      "48000/48000 [==============================] - 13s 278us/step - loss: 0.7058 - acc: 0.7453 - val_loss: 0.7204 - val_acc: 0.7408\n",
      "Epoch 27/100\n",
      "48000/48000 [==============================] - 10s 212us/step - loss: 0.7054 - acc: 0.7453 - val_loss: 0.7206 - val_acc: 0.7403\n",
      "Epoch 28/100\n",
      "48000/48000 [==============================] - 10s 215us/step - loss: 0.7052 - acc: 0.7453 - val_loss: 0.7210 - val_acc: 0.7397\n",
      "\n",
      "Epoch 00028: ReduceLROnPlateau reducing learning rate to 1.6000001778593287e-06.\n",
      "Epoch 29/100\n",
      "48000/48000 [==============================] - 10s 216us/step - loss: 0.7043 - acc: 0.7455 - val_loss: 0.7195 - val_acc: 0.7403\n",
      "Epoch 30/100\n",
      "48000/48000 [==============================] - 10s 212us/step - loss: 0.7042 - acc: 0.7459 - val_loss: 0.7194 - val_acc: 0.7406\n",
      "Epoch 31/100\n",
      "48000/48000 [==============================] - 10s 206us/step - loss: 0.7041 - acc: 0.7458 - val_loss: 0.7194 - val_acc: 0.7405\n",
      "\n",
      "Epoch 00031: ReduceLROnPlateau reducing learning rate to 3.200000264769187e-07.\n",
      "Epoch 32/100\n",
      "48000/48000 [==============================] - 10s 209us/step - loss: 0.7040 - acc: 0.7460 - val_loss: 0.7194 - val_acc: 0.7408\n",
      "Epoch 33/100\n",
      "48000/48000 [==============================] - 10s 210us/step - loss: 0.7039 - acc: 0.7462 - val_loss: 0.7193 - val_acc: 0.7404\n",
      "Epoch 34/100\n",
      "48000/48000 [==============================] - 10s 208us/step - loss: 0.7039 - acc: 0.7460 - val_loss: 0.7193 - val_acc: 0.7407\n",
      "\n",
      "Epoch 00034: ReduceLROnPlateau reducing learning rate to 6.400000529538374e-08.\n",
      "Epoch 35/100\n",
      "48000/48000 [==============================] - 10s 210us/step - loss: 0.7039 - acc: 0.7460 - val_loss: 0.7193 - val_acc: 0.7406\n",
      "Epoch 36/100\n",
      "48000/48000 [==============================] - 10s 208us/step - loss: 0.7039 - acc: 0.7461 - val_loss: 0.7193 - val_acc: 0.7405\n",
      "Epoch 37/100\n",
      "48000/48000 [==============================] - 10s 209us/step - loss: 0.7039 - acc: 0.7461 - val_loss: 0.7193 - val_acc: 0.7405\n",
      "\n",
      "Epoch 00037: ReduceLROnPlateau reducing learning rate to 1.2800001059076749e-08.\n",
      "Epoch 38/100\n",
      "48000/48000 [==============================] - 10s 209us/step - loss: 0.7039 - acc: 0.7461 - val_loss: 0.7193 - val_acc: 0.7405\n",
      "Epoch 39/100\n",
      "48000/48000 [==============================] - 10s 209us/step - loss: 0.7039 - acc: 0.7461 - val_loss: 0.7193 - val_acc: 0.7404\n",
      "Epoch 40/100\n",
      "48000/48000 [==============================] - 10s 210us/step - loss: 0.7039 - acc: 0.7461 - val_loss: 0.7193 - val_acc: 0.7404\n",
      "\n",
      "Epoch 00040: ReduceLROnPlateau reducing learning rate to 2.5600002118153498e-09.\n",
      "Epoch 41/100\n",
      "48000/48000 [==============================] - 10s 218us/step - loss: 0.7039 - acc: 0.7460 - val_loss: 0.7193 - val_acc: 0.7404\n",
      "Epoch 42/100\n",
      "48000/48000 [==============================] - 11s 234us/step - loss: 0.7039 - acc: 0.7460 - val_loss: 0.7193 - val_acc: 0.7404\n",
      "Epoch 43/100\n",
      "48000/48000 [==============================] - 11s 234us/step - loss: 0.7039 - acc: 0.7460 - val_loss: 0.7193 - val_acc: 0.7404\n",
      "\n",
      "Epoch 00043: ReduceLROnPlateau reducing learning rate to 5.1200004236307e-10.\n",
      "Epoch 44/100\n",
      "48000/48000 [==============================] - 10s 212us/step - loss: 0.7039 - acc: 0.7460 - val_loss: 0.7193 - val_acc: 0.7404\n",
      "Epoch 45/100\n",
      "48000/48000 [==============================] - 10s 211us/step - loss: 0.7039 - acc: 0.7460 - val_loss: 0.7193 - val_acc: 0.7404\n",
      "Epoch 46/100\n",
      "48000/48000 [==============================] - 10s 213us/step - loss: 0.7039 - acc: 0.7460 - val_loss: 0.7193 - val_acc: 0.7404\n",
      "\n",
      "Epoch 00046: ReduceLROnPlateau reducing learning rate to 1.0240001069306004e-10.\n",
      "Epoch 47/100\n",
      "48000/48000 [==============================] - 10s 211us/step - loss: 0.7039 - acc: 0.7460 - val_loss: 0.7193 - val_acc: 0.7404\n",
      "Epoch 48/100\n",
      "48000/48000 [==============================] - 10s 212us/step - loss: 0.7039 - acc: 0.7460 - val_loss: 0.7193 - val_acc: 0.7404\n",
      "Epoch 49/100\n",
      "48000/48000 [==============================] - 10s 215us/step - loss: 0.7039 - acc: 0.7460 - val_loss: 0.7193 - val_acc: 0.7404\n",
      "\n",
      "Epoch 00049: ReduceLROnPlateau reducing learning rate to 2.0480002416167767e-11.\n",
      "Epoch 50/100\n",
      "48000/48000 [==============================] - 11s 239us/step - loss: 0.7039 - acc: 0.7460 - val_loss: 0.7193 - val_acc: 0.7404\n",
      "Epoch 51/100\n",
      "48000/48000 [==============================] - 11s 226us/step - loss: 0.7039 - acc: 0.7460 - val_loss: 0.7193 - val_acc: 0.7404\n",
      "Epoch 52/100\n",
      "48000/48000 [==============================] - 10s 217us/step - loss: 0.7039 - acc: 0.7460 - val_loss: 0.7193 - val_acc: 0.7404\n",
      "\n",
      "Epoch 00052: ReduceLROnPlateau reducing learning rate to 4.096000622011431e-12.\n",
      "Epoch 53/100\n",
      "48000/48000 [==============================] - 10s 219us/step - loss: 0.7039 - acc: 0.7460 - val_loss: 0.7193 - val_acc: 0.7404\n",
      "Epoch 54/100\n",
      "48000/48000 [==============================] - 10s 206us/step - loss: 0.7039 - acc: 0.7460 - val_loss: 0.7193 - val_acc: 0.7404\n",
      "Epoch 00054: early stopping\n"
     ]
    }
   ],
   "source": [
    "pretrain_history = pretrain_model.fit(train_features_flat,\n",
    "                    train_label,\n",
    "                    epochs=NB_EPOCHS,\n",
    "                    validation_data=(val_features_flat, valid_label),\n",
    "                    callbacks=callbacks)"
   ]
  },
  {
   "cell_type": "code",
   "execution_count": 245,
   "metadata": {},
   "outputs": [
    {
     "data": {
      "image/png": "[encoded data removed]",
      "text/plain": [
       "<Figure size 432x288 with 1 Axes>"
      ]
     },
     "metadata": {
      "needs_background": "light"
     },
     "output_type": "display_data"
    },
    {
     "data": {
      "image/png": "[encoded data removed]",
      "text/plain": [
       "<Figure size 432x288 with 1 Axes>"
      ]
     },
     "metadata": {
      "needs_background": "light"
     },
     "output_type": "display_data"
    }
   ],
   "source": [
    "plot_training(pretrain_history)"
   ]
  },
  {
   "cell_type": "markdown",
   "metadata": {},
   "source": [
    "## Part 5: Interpret\n",
    "\n",
    "### Evaluation: Comparing Models"
   ]
  },
  {
   "cell_type": "markdown",
   "metadata": {},
   "source": [
    "##### Model 1: test_loss: 0.1766 - test_acc: 0.9330 - val_loss: 0.2274 - val_acc: 0.9162\n",
    "\n",
    "* Clearly this model created a good starting point with a very high validation accuracy score of nearly 92%. With a simple neural network, the data set can be classified accuratly. But, there is always room to improve. \n",
    "\n",
    "##### Model 2: test_loss: 0.3802 - test_acc: 0.8623 - val_loss: 0.2753 - val_acc: 0.9002\n",
    "\n",
    "* It is interesting to see the validation accuracy decrease as we incorporated a dropout normalization and an addition hidden layer. This lower performance may increase if the epochs where to increase, giving the network more time to adjust weights and improve accuracy. \n",
    "\n",
    "##### Model 3: test_loss: 0.3256 - test_acc: 0.8859 - val_loss: 0.2564 - val_acc: 0.9040\n",
    "\n",
    "* A slight uptick in performace and a decrease in the loss function, we see Model 3 performing around the same as model 2. Adjusting the dropout rate had little effect on the network's performance. However, and again, with more epochs and training time, my guess is that we would see an increase in performance. \n",
    "\n",
    "##### Pretrained VGG16 Model: test_loss: 0.7039 - test_acc: 0.7460 - val_loss: 0.7193 - val_acc: 0.7404\n",
    "\n",
    "* Needing to make adjustments and tweaks to the data's shape may have degraded quality. In addition, rather than using a feature extraction method, we could try a freezing technique that would add in the VGG16 model as an initial layer with it's weights frozen and training the data on the entire network.\n",
    "\n",
    "##### Final Model: test_loss: 0.2326 - test_acc: 0.9184 - val_loss: 0.2099 - val_acc: 0.9291\n",
    "\n",
    "* Our final model performed the best. The near 92% accuracy within the test data and the near 93% accuracy on the validation data is in line with the results and scores of published models found here:\n",
    "\n",
    "https://github.com/zalandoresearch/fashion-mnist#get-the-data"
   ]
  },
  {
   "cell_type": "markdown",
   "metadata": {},
   "source": [
    "### An evaluation of the final model\n",
    "\n",
    "Below is a test that 15 random images and shows whether they were classified correctly or not. We can use this in addition to a accuracy score for each category to see where our model will need improvements.\n",
    "\n",
    "Credit to:\n",
    "https://colab.research.google.com/github/margaretmz/deep-learning/blob/master/fashion_mnist_keras.ipynb"
   ]
  },
  {
   "cell_type": "code",
   "execution_count": 105,
   "metadata": {},
   "outputs": [
    {
     "data": {
      "image/png": "[encoded data removed]",
      "text/plain": [
       "<Figure size 1440x576 with 15 Axes>"
      ]
     },
     "metadata": {},
     "output_type": "display_data"
    }
   ],
   "source": [
    "import numpy as np\n",
    "y_hat = final_model.predict(x_test)\n",
    "\n",
    "# Plot a random sample of 10 test images, their predicted labels and ground truth\n",
    "figure = plt.figure(figsize=(20, 8))\n",
    "for i, index in enumerate(np.random.choice(x_test.shape[0], size=15, replace=False)):\n",
    "    ax = figure.add_subplot(3, 5, i + 1, xticks=[], yticks=[])\n",
    "    # Display each image\n",
    "    ax.imshow(np.squeeze(x_test[index]))\n",
    "    predict_index = np.argmax(y_hat[index])\n",
    "    true_index = np.argmax(y_test[index])\n",
    "    # Set the title for each image\n",
    "    ax.set_title(\"{} ({})\".format(fashion_mnist_labels[predict_index], \n",
    "                                  fashion_mnist_labels[true_index]),\n",
    "                                  color=(\"green\" if predict_index == true_index else \"red\"))"
   ]
  },
  {
   "cell_type": "markdown",
   "metadata": {},
   "source": [
    "https://medium.com/tensorflow/hello-deep-learning-fashion-mnist-with-keras-50fcff8cd74a\n",
    "\n"
   ]
  },
  {
   "cell_type": "code",
   "execution_count": 103,
   "metadata": {},
   "outputs": [
    {
     "name": "stdout",
     "output_type": "stream",
     "text": [
      "Label: 0 --- Accuracy: 0.908\n",
      "Label: 1 --- Accuracy: 0.983\n",
      "Label: 2 --- Accuracy: 0.869\n",
      "Label: 3 --- Accuracy: 0.942\n",
      "Label: 4 --- Accuracy: 0.896\n",
      "Label: 5 --- Accuracy: 0.989\n",
      "Label: 6 --- Accuracy: 0.69\n",
      "Label: 7 --- Accuracy: 0.981\n",
      "Label: 8 --- Accuracy: 0.989\n",
      "Label: 9 --- Accuracy: 0.962\n"
     ]
    }
   ],
   "source": [
    "\n",
    "matrix = confusion_matrix(y_test.argmax(axis=1), y_hat.argmax(axis=1))\n",
    "c = 0\n",
    "for i in sorted(test['label'].unique()):\n",
    "    count = test[test['label'] == i].shape[0]\n",
    "    correct = matrix[c][c]\n",
    "    print(\"Label: \" + str(i) + \" --- Accuracy: \" + str(round(correct/count, 3)))\n",
    "    c += 1"
   ]
  },
  {
   "cell_type": "code",
   "execution_count": 104,
   "metadata": {},
   "outputs": [
    {
     "data": {
      "text/plain": [
       "['T-shirt/top',\n",
       " 'Trouser',\n",
       " 'Pullover',\n",
       " 'Dress',\n",
       " 'Coat',\n",
       " 'Sandal',\n",
       " 'Shirt',\n",
       " 'Sneaker',\n",
       " 'Bag',\n",
       " 'Ankle boot']"
      ]
     },
     "execution_count": 104,
     "metadata": {},
     "output_type": "execute_result"
    }
   ],
   "source": [
    "fashion_mnist_labels"
   ]
  },
  {
   "cell_type": "markdown",
   "metadata": {},
   "source": [
    "## Notes on performance\n",
    "\n",
    " * We can see that this model performed the best on categorizing trousers, sandals, sneakers and bags.\n",
    " * The model performed worst on the shirt and pullover category. "
   ]
  },
  {
   "cell_type": "markdown",
   "metadata": {},
   "source": [
    "## Conclusion"
   ]
  },
  {
   "cell_type": "markdown",
   "metadata": {},
   "source": [
    "Our final model showcased a performance that is in competition with published models on Kaggle. The Talos hyperparameter search was computationally expensive, but in the end allowed our model to be fully optimized for accuracy. With a 92% test accuracy and a 93% validation accuracy, we can be proud of the fact our CNN is performing at such a high level.  "
   ]
  },
  {
   "cell_type": "markdown",
   "metadata": {},
   "source": [
    "## Future Work"
   ]
  },
  {
   "cell_type": "markdown",
   "metadata": {},
   "source": [
    "### Things to explore:\n",
    "\n",
    "* Experiment with the usage of other pretrained networks to see how performance can improve.\n",
    "* Search for ways our model can decipher between coats and shirts and shirts and tops.\n",
    "* Develop a sense of our final models greatest strengths and see if those parameters can be improved upon further. \n",
    "* Run our network at higher epoch levels to see what further training time can do to performance. "
   ]
  },
  {
   "cell_type": "code",
   "execution_count": null,
   "metadata": {},
   "outputs": [],
   "source": []
  }
 ],
 "metadata": {
  "kernelspec": {
   "display_name": "Python 3",
   "language": "python",
   "name": "python3"
  },
  "language_info": {
   "codemirror_mode": {
    "name": "ipython",
    "version": 3
   },
   "file_extension": ".py",
   "mimetype": "text/x-python",
   "name": "python",
   "nbconvert_exporter": "python",
   "pygments_lexer": "ipython3",
   "version": "3.7.4"
  }
 },
 "nbformat": 4,
 "nbformat_minor": 2
}
